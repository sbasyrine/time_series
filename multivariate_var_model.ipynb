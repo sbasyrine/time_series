{
 "cells": [
  {
   "cell_type": "markdown",
   "metadata": {},
   "source": [
    "# Vector Autoregression (VAR)"
   ]
  },
  {
   "cell_type": "code",
   "execution_count": 1,
   "metadata": {
    "collapsed": true
   },
   "outputs": [],
   "source": [
    "from IPython.display import display, Markdown\n",
    "from math import sqrt\n",
    "import pandas as pd\n",
    "import matplotlib.pyplot as plt\n",
    "%matplotlib inline\n",
    "from sklearn.metrics import mean_squared_error"
   ]
  },
  {
   "cell_type": "markdown",
   "metadata": {},
   "source": [
    "# Charging station Dataset"
   ]
  },
  {
   "cell_type": "code",
   "execution_count": 2,
   "metadata": {
    "collapsed": true
   },
   "outputs": [],
   "source": [
    "# Load in the dataset\n",
    "full_data =  pd.read_csv('C:/Users/Sirine/Desktop/Maseer/201801a.txt',sep='\\t', encoding=\"utf-8\" ,names = [\"Datetime\",\"Time\",\"ChargePointID\",\"ChargePointType\",\"Status\",\"Latitude_Longitude\",\"Address\",    \"Latitude\",\"Longitude\"])\n"
   ]
  },
  {
   "cell_type": "code",
   "execution_count": 3,
   "metadata": {
    "collapsed": true
   },
   "outputs": [],
   "source": [
    "# Clean empty rows\n",
    "full_data = full_data.dropna(axis=0)"
   ]
  },
  {
   "cell_type": "code",
   "execution_count": 4,
   "metadata": {},
   "outputs": [
    {
     "data": {
      "text/html": [
       "<div>\n",
       "<style>\n",
       "    .dataframe thead tr:only-child th {\n",
       "        text-align: right;\n",
       "    }\n",
       "\n",
       "    .dataframe thead th {\n",
       "        text-align: left;\n",
       "    }\n",
       "\n",
       "    .dataframe tbody tr th {\n",
       "        vertical-align: top;\n",
       "    }\n",
       "</style>\n",
       "<table border=\"1\" class=\"dataframe\">\n",
       "  <thead>\n",
       "    <tr style=\"text-align: right;\">\n",
       "      <th></th>\n",
       "      <th>ChargePointID</th>\n",
       "      <th>ChargePointType</th>\n",
       "      <th>Status</th>\n",
       "      <th>Latitude_Longitude</th>\n",
       "      <th>Address</th>\n",
       "      <th>Latitude</th>\n",
       "      <th>Longitude</th>\n",
       "      <th>FormattedDatetime</th>\n",
       "    </tr>\n",
       "  </thead>\n",
       "  <tbody>\n",
       "    <tr>\n",
       "      <th>0</th>\n",
       "      <td>CP:C6FD3</td>\n",
       "      <td>StandardType2</td>\n",
       "      <td>OOS</td>\n",
       "      <td>-6.933468,52.836332</td>\n",
       "      <td>Public Car Park, Kennedy Street, Carlow Town, ...</td>\n",
       "      <td>-6.933468</td>\n",
       "      <td>52.836332</td>\n",
       "      <td>2018-01-01 00:01:00</td>\n",
       "    </tr>\n",
       "    <tr>\n",
       "      <th>1</th>\n",
       "      <td>CP:C7WLM</td>\n",
       "      <td>StandardType2</td>\n",
       "      <td>OOC</td>\n",
       "      <td>-6.972487,53.917571</td>\n",
       "      <td>Main Street, Bailieborough, County Cavan</td>\n",
       "      <td>-6.972487</td>\n",
       "      <td>53.917571</td>\n",
       "      <td>2018-01-01 00:01:00</td>\n",
       "    </tr>\n",
       "    <tr>\n",
       "      <th>2</th>\n",
       "      <td>CP:C4FVM</td>\n",
       "      <td>StandardType2</td>\n",
       "      <td>OOS</td>\n",
       "      <td>-9.346292,52.928911</td>\n",
       "      <td>Public Car Park, N67/Milltown Malbay Road, Lah...</td>\n",
       "      <td>-9.346292</td>\n",
       "      <td>52.928911</td>\n",
       "      <td>2018-01-01 00:01:00</td>\n",
       "    </tr>\n",
       "    <tr>\n",
       "      <th>3</th>\n",
       "      <td>CP:C6Q3G</td>\n",
       "      <td>StandardType2</td>\n",
       "      <td>OOC</td>\n",
       "      <td>-8.889570,51.620831</td>\n",
       "      <td>Deasy's Public Car Park, Park Road (N71), Clon...</td>\n",
       "      <td>-8.889570</td>\n",
       "      <td>51.620831</td>\n",
       "      <td>2018-01-01 00:01:00</td>\n",
       "    </tr>\n",
       "    <tr>\n",
       "      <th>4</th>\n",
       "      <td>CP:C6J53</td>\n",
       "      <td>StandardType2</td>\n",
       "      <td>Part</td>\n",
       "      <td>-8.473326,51.896298</td>\n",
       "      <td>51 South Mall, Cork City, County Cork</td>\n",
       "      <td>-8.473326</td>\n",
       "      <td>51.896298</td>\n",
       "      <td>2018-01-01 00:01:00</td>\n",
       "    </tr>\n",
       "  </tbody>\n",
       "</table>\n",
       "</div>"
      ],
      "text/plain": [
       "  ChargePointID ChargePointType Status   Latitude_Longitude  \\\n",
       "0      CP:C6FD3   StandardType2    OOS  -6.933468,52.836332   \n",
       "1      CP:C7WLM   StandardType2    OOC  -6.972487,53.917571   \n",
       "2      CP:C4FVM   StandardType2    OOS  -9.346292,52.928911   \n",
       "3      CP:C6Q3G   StandardType2    OOC  -8.889570,51.620831   \n",
       "4      CP:C6J53   StandardType2   Part  -8.473326,51.896298   \n",
       "\n",
       "                                             Address  Latitude  Longitude  \\\n",
       "0  Public Car Park, Kennedy Street, Carlow Town, ... -6.933468  52.836332   \n",
       "1           Main Street, Bailieborough, County Cavan -6.972487  53.917571   \n",
       "2  Public Car Park, N67/Milltown Malbay Road, Lah... -9.346292  52.928911   \n",
       "3  Deasy's Public Car Park, Park Road (N71), Clon... -8.889570  51.620831   \n",
       "4              51 South Mall, Cork City, County Cork -8.473326  51.896298   \n",
       "\n",
       "    FormattedDatetime  \n",
       "0 2018-01-01 00:01:00  \n",
       "1 2018-01-01 00:01:00  \n",
       "2 2018-01-01 00:01:00  \n",
       "3 2018-01-01 00:01:00  \n",
       "4 2018-01-01 00:01:00  "
      ]
     },
     "execution_count": 4,
     "metadata": {},
     "output_type": "execute_result"
    }
   ],
   "source": [
    "#convert Datetime to str to combine date (Datetime) and time (Time)\n",
    "full_data.Datetime = full_data.Datetime.astype(str)\n",
    "\n",
    "#convert Time to str to combine date (Datetime) and time (Time)\n",
    "full_data.Time = full_data.Time.astype(str)\n",
    "#add Time to Datetime column\n",
    "full_data['Datetime'] = full_data['Datetime'].str.cat(full_data['Time'].values.astype(str), sep='')\n",
    "#now I don't need the Time column anymone (since it was added to the Datetime column)\n",
    " \n",
    "\n",
    "full_data['Date'] = full_data.Datetime.str.slice(0,8)\n",
    "full_data['Time'] = full_data.Datetime.str.slice(8)\n",
    "full_data['Time'] = full_data['Time'].apply(lambda val: '{:0>4}'.format(val))\n",
    "full_data['Datetime'] = full_data['Date'] + \" \" + full_data[\"Time\"]\n",
    "\n",
    "#now let's finally convert Datetime to type datetime in column FormattedDatetime \n",
    "\n",
    "full_data['FormattedDatetime'] = pd.to_datetime(full_data.Datetime,format=\"%Y%m%d %H%M\")\n",
    "del full_data['Datetime']\n",
    "del full_data['Date']\n",
    "del full_data['Time']\n",
    "\n",
    "full_data.head()"
   ]
  },
  {
   "cell_type": "markdown",
   "metadata": {},
   "source": [
    "## Multivariate Time Series (MTS)"
   ]
  },
  {
   "cell_type": "markdown",
   "metadata": {},
   "source": [
    "A <b>multivariate time series</b> has more than one time-dependent variable just like our dataset. Each variable depends not only on its past values but also has some dependency on other variables. This dependency is used for forecasting future values."
   ]
  },
  {
   "cell_type": "markdown",
   "metadata": {},
   "source": [
    "### to_datetime()"
   ]
  },
  {
   "cell_type": "code",
   "execution_count": 5,
   "metadata": {},
   "outputs": [
    {
     "data": {
      "text/html": [
       "<div>\n",
       "<style>\n",
       "    .dataframe thead tr:only-child th {\n",
       "        text-align: right;\n",
       "    }\n",
       "\n",
       "    .dataframe thead th {\n",
       "        text-align: left;\n",
       "    }\n",
       "\n",
       "    .dataframe tbody tr th {\n",
       "        vertical-align: top;\n",
       "    }\n",
       "</style>\n",
       "<table border=\"1\" class=\"dataframe\">\n",
       "  <thead>\n",
       "    <tr style=\"text-align: right;\">\n",
       "      <th></th>\n",
       "      <th>OOC</th>\n",
       "      <th>OOS</th>\n",
       "      <th>Occ</th>\n",
       "      <th>Part</th>\n",
       "    </tr>\n",
       "  </thead>\n",
       "  <tbody>\n",
       "    <tr>\n",
       "      <th>0</th>\n",
       "      <td>0</td>\n",
       "      <td>1</td>\n",
       "      <td>0</td>\n",
       "      <td>0</td>\n",
       "    </tr>\n",
       "    <tr>\n",
       "      <th>1</th>\n",
       "      <td>1</td>\n",
       "      <td>0</td>\n",
       "      <td>0</td>\n",
       "      <td>0</td>\n",
       "    </tr>\n",
       "    <tr>\n",
       "      <th>2</th>\n",
       "      <td>0</td>\n",
       "      <td>1</td>\n",
       "      <td>0</td>\n",
       "      <td>0</td>\n",
       "    </tr>\n",
       "    <tr>\n",
       "      <th>3</th>\n",
       "      <td>1</td>\n",
       "      <td>0</td>\n",
       "      <td>0</td>\n",
       "      <td>0</td>\n",
       "    </tr>\n",
       "    <tr>\n",
       "      <th>4</th>\n",
       "      <td>0</td>\n",
       "      <td>0</td>\n",
       "      <td>0</td>\n",
       "      <td>1</td>\n",
       "    </tr>\n",
       "  </tbody>\n",
       "</table>\n",
       "</div>"
      ],
      "text/plain": [
       "   OOC  OOS  Occ  Part\n",
       "0    0    1    0     0\n",
       "1    1    0    0     0\n",
       "2    0    1    0     0\n",
       "3    1    0    0     0\n",
       "4    0    0    0     1"
      ]
     },
     "execution_count": 5,
     "metadata": {},
     "output_type": "execute_result"
    }
   ],
   "source": [
    "\n",
    "status_dummies = pd.get_dummies(full_data.Status).astype(int)\n",
    "status_dummies.head()"
   ]
  },
  {
   "cell_type": "code",
   "execution_count": 6,
   "metadata": {},
   "outputs": [
    {
     "data": {
      "text/html": [
       "<div>\n",
       "<style>\n",
       "    .dataframe thead tr:only-child th {\n",
       "        text-align: right;\n",
       "    }\n",
       "\n",
       "    .dataframe thead th {\n",
       "        text-align: left;\n",
       "    }\n",
       "\n",
       "    .dataframe tbody tr th {\n",
       "        vertical-align: top;\n",
       "    }\n",
       "</style>\n",
       "<table border=\"1\" class=\"dataframe\">\n",
       "  <thead>\n",
       "    <tr style=\"text-align: right;\">\n",
       "      <th></th>\n",
       "      <th>ChargePointID</th>\n",
       "      <th>ChargePointType</th>\n",
       "      <th>Status</th>\n",
       "      <th>Latitude_Longitude</th>\n",
       "      <th>Address</th>\n",
       "      <th>Latitude</th>\n",
       "      <th>Longitude</th>\n",
       "      <th>FormattedDatetime</th>\n",
       "      <th>OOC</th>\n",
       "      <th>OOS</th>\n",
       "      <th>Occ</th>\n",
       "      <th>Part</th>\n",
       "    </tr>\n",
       "  </thead>\n",
       "  <tbody>\n",
       "    <tr>\n",
       "      <th>0</th>\n",
       "      <td>CP:C6FD3</td>\n",
       "      <td>StandardType2</td>\n",
       "      <td>OOS</td>\n",
       "      <td>-6.933468,52.836332</td>\n",
       "      <td>Public Car Park, Kennedy Street, Carlow Town, ...</td>\n",
       "      <td>-6.933468</td>\n",
       "      <td>52.836332</td>\n",
       "      <td>2018-01-01 00:01:00</td>\n",
       "      <td>0</td>\n",
       "      <td>1</td>\n",
       "      <td>0</td>\n",
       "      <td>0</td>\n",
       "    </tr>\n",
       "    <tr>\n",
       "      <th>1</th>\n",
       "      <td>CP:C7WLM</td>\n",
       "      <td>StandardType2</td>\n",
       "      <td>OOC</td>\n",
       "      <td>-6.972487,53.917571</td>\n",
       "      <td>Main Street, Bailieborough, County Cavan</td>\n",
       "      <td>-6.972487</td>\n",
       "      <td>53.917571</td>\n",
       "      <td>2018-01-01 00:01:00</td>\n",
       "      <td>1</td>\n",
       "      <td>0</td>\n",
       "      <td>0</td>\n",
       "      <td>0</td>\n",
       "    </tr>\n",
       "    <tr>\n",
       "      <th>2</th>\n",
       "      <td>CP:C4FVM</td>\n",
       "      <td>StandardType2</td>\n",
       "      <td>OOS</td>\n",
       "      <td>-9.346292,52.928911</td>\n",
       "      <td>Public Car Park, N67/Milltown Malbay Road, Lah...</td>\n",
       "      <td>-9.346292</td>\n",
       "      <td>52.928911</td>\n",
       "      <td>2018-01-01 00:01:00</td>\n",
       "      <td>0</td>\n",
       "      <td>1</td>\n",
       "      <td>0</td>\n",
       "      <td>0</td>\n",
       "    </tr>\n",
       "    <tr>\n",
       "      <th>3</th>\n",
       "      <td>CP:C6Q3G</td>\n",
       "      <td>StandardType2</td>\n",
       "      <td>OOC</td>\n",
       "      <td>-8.889570,51.620831</td>\n",
       "      <td>Deasy's Public Car Park, Park Road (N71), Clon...</td>\n",
       "      <td>-8.889570</td>\n",
       "      <td>51.620831</td>\n",
       "      <td>2018-01-01 00:01:00</td>\n",
       "      <td>1</td>\n",
       "      <td>0</td>\n",
       "      <td>0</td>\n",
       "      <td>0</td>\n",
       "    </tr>\n",
       "    <tr>\n",
       "      <th>4</th>\n",
       "      <td>CP:C6J53</td>\n",
       "      <td>StandardType2</td>\n",
       "      <td>Part</td>\n",
       "      <td>-8.473326,51.896298</td>\n",
       "      <td>51 South Mall, Cork City, County Cork</td>\n",
       "      <td>-8.473326</td>\n",
       "      <td>51.896298</td>\n",
       "      <td>2018-01-01 00:01:00</td>\n",
       "      <td>0</td>\n",
       "      <td>0</td>\n",
       "      <td>0</td>\n",
       "      <td>1</td>\n",
       "    </tr>\n",
       "  </tbody>\n",
       "</table>\n",
       "</div>"
      ],
      "text/plain": [
       "  ChargePointID ChargePointType Status   Latitude_Longitude  \\\n",
       "0      CP:C6FD3   StandardType2    OOS  -6.933468,52.836332   \n",
       "1      CP:C7WLM   StandardType2    OOC  -6.972487,53.917571   \n",
       "2      CP:C4FVM   StandardType2    OOS  -9.346292,52.928911   \n",
       "3      CP:C6Q3G   StandardType2    OOC  -8.889570,51.620831   \n",
       "4      CP:C6J53   StandardType2   Part  -8.473326,51.896298   \n",
       "\n",
       "                                             Address  Latitude  Longitude  \\\n",
       "0  Public Car Park, Kennedy Street, Carlow Town, ... -6.933468  52.836332   \n",
       "1           Main Street, Bailieborough, County Cavan -6.972487  53.917571   \n",
       "2  Public Car Park, N67/Milltown Malbay Road, Lah... -9.346292  52.928911   \n",
       "3  Deasy's Public Car Park, Park Road (N71), Clon... -8.889570  51.620831   \n",
       "4              51 South Mall, Cork City, County Cork -8.473326  51.896298   \n",
       "\n",
       "    FormattedDatetime  OOC  OOS  Occ  Part  \n",
       "0 2018-01-01 00:01:00    0    1    0     0  \n",
       "1 2018-01-01 00:01:00    1    0    0     0  \n",
       "2 2018-01-01 00:01:00    0    1    0     0  \n",
       "3 2018-01-01 00:01:00    1    0    0     0  \n",
       "4 2018-01-01 00:01:00    0    0    0     1  "
      ]
     },
     "execution_count": 6,
     "metadata": {},
     "output_type": "execute_result"
    }
   ],
   "source": [
    "#let's reappend the status features to the original dataset\n",
    "full_data = pd.concat(\n",
    "    [full_data,status_dummies],\n",
    "    axis=1) #remember that concatenating columns means axis=1!\n",
    "#full_data.drop('Status',inplace=True,axis=1) --> this would drop the Status column, but we will want that\n",
    "full_data.head()"
   ]
  },
  {
   "cell_type": "code",
   "execution_count": 7,
   "metadata": {
    "collapsed": true
   },
   "outputs": [],
   "source": [
    "\n",
    "CS1=full_data.loc[full_data['ChargePointID'] == 'CP:C8PJ7'] \n",
    "\n",
    "\n"
   ]
  },
  {
   "cell_type": "code",
   "execution_count": 8,
   "metadata": {
    "collapsed": true
   },
   "outputs": [],
   "source": [
    "\n",
    "CS1AVAIL = []\n",
    "current = []\n",
    "start = '2018-01-01 15:20:00'\n",
    "time = pd.to_datetime(start)\n",
    "#count = 0\n",
    "while time <= pd.to_datetime('2018-1-31 19:52:00'):\n",
    "    current.append('CP:C8PJ7') #ChargePointID\n",
    "    current.append('StandardType2') #ChargePointType\n",
    "    current.append('A') #Status = available\n",
    "    current.append('Q-Park Multi-Storey Car Park, Sean McDermott Street, Dublin 1, County Dublin') #Address\n",
    "    current.append(float(-6.258432)) #Latitude\n",
    "    current.append(float(53.352022)) #citude\n",
    "    current.append(pd.to_datetime(time)) #Datetime\n",
    "    current.append(0) #OOC\n",
    "    current.append(0) #OOS\n",
    "    current.append(0) #Occ\n",
    "    current.append(0) #Part\n",
    "    CS1AVAIL.append(current)\n",
    "    current = []\n",
    "    time = pd.to_datetime(time) + pd.Timedelta(minutes=5)\n",
    "   \n",
    " \n",
    " \n",
    " \n"
   ]
  },
  {
   "cell_type": "code",
   "execution_count": 9,
   "metadata": {
    "collapsed": true
   },
   "outputs": [],
   "source": [
    "\n",
    "\n",
    "#turn list into df\n",
    "CS1AVAIL = pd.DataFrame(CS1AVAIL, columns=['ChargePointID',\n",
    "                                                         'ChargePointType',\n",
    "                                                         'Status',\n",
    "                                                         'Address',\n",
    "                                                         'Latitude',\n",
    "                                                         'Longitude',\n",
    "                                                         'FormattedDatetime',\n",
    "                                                         'OOC',\n",
    "                                                         'OOS',\n",
    "                                                         'Occ',\n",
    "                                                         'Part'])\n",
    "\n",
    " \n",
    "\n",
    "\n",
    " "
   ]
  },
  {
   "cell_type": "code",
   "execution_count": 10,
   "metadata": {
    "collapsed": true
   },
   "outputs": [],
   "source": [
    "\n",
    "\n",
    "\n",
    "\"\"\"I was getting an error when trying to update cliftonAVAIL with clifton,\n",
    "so I reset the index of clifton, which fixed the problem\"\"\"\n",
    "CS1 = CS1.reset_index()  \n",
    "CS1AVAIL.update(CS1) "
   ]
  },
  {
   "cell_type": "code",
   "execution_count": 11,
   "metadata": {},
   "outputs": [
    {
     "data": {
      "text/html": [
       "<div>\n",
       "<style>\n",
       "    .dataframe thead tr:only-child th {\n",
       "        text-align: right;\n",
       "    }\n",
       "\n",
       "    .dataframe thead th {\n",
       "        text-align: left;\n",
       "    }\n",
       "\n",
       "    .dataframe tbody tr th {\n",
       "        vertical-align: top;\n",
       "    }\n",
       "</style>\n",
       "<table border=\"1\" class=\"dataframe\">\n",
       "  <thead>\n",
       "    <tr style=\"text-align: right;\">\n",
       "      <th></th>\n",
       "      <th>ChargePointID</th>\n",
       "      <th>ChargePointType</th>\n",
       "      <th>Status</th>\n",
       "      <th>Address</th>\n",
       "      <th>Latitude</th>\n",
       "      <th>Longitude</th>\n",
       "      <th>FormattedDatetime</th>\n",
       "      <th>OOC</th>\n",
       "      <th>OOS</th>\n",
       "      <th>Occ</th>\n",
       "      <th>Part</th>\n",
       "      <th>Status_Number</th>\n",
       "    </tr>\n",
       "  </thead>\n",
       "  <tbody>\n",
       "    <tr>\n",
       "      <th>0</th>\n",
       "      <td>CP:C8PJ7</td>\n",
       "      <td>StandardType2</td>\n",
       "      <td>Part</td>\n",
       "      <td>Q-Park Multi-Storey Car Park, Sean McDermott S...</td>\n",
       "      <td>-6.258432</td>\n",
       "      <td>53.352022</td>\n",
       "      <td>2018-01-01 15:20:00</td>\n",
       "      <td>0.0</td>\n",
       "      <td>0.0</td>\n",
       "      <td>0.0</td>\n",
       "      <td>1.0</td>\n",
       "      <td>1</td>\n",
       "    </tr>\n",
       "    <tr>\n",
       "      <th>1</th>\n",
       "      <td>CP:C8PJ7</td>\n",
       "      <td>StandardType2</td>\n",
       "      <td>Part</td>\n",
       "      <td>Q-Park Multi-Storey Car Park, Sean McDermott S...</td>\n",
       "      <td>-6.258432</td>\n",
       "      <td>53.352022</td>\n",
       "      <td>2018-01-01 15:25:00</td>\n",
       "      <td>0.0</td>\n",
       "      <td>0.0</td>\n",
       "      <td>0.0</td>\n",
       "      <td>1.0</td>\n",
       "      <td>1</td>\n",
       "    </tr>\n",
       "    <tr>\n",
       "      <th>2</th>\n",
       "      <td>CP:C8PJ7</td>\n",
       "      <td>StandardType2</td>\n",
       "      <td>Part</td>\n",
       "      <td>Q-Park Multi-Storey Car Park, Sean McDermott S...</td>\n",
       "      <td>-6.258432</td>\n",
       "      <td>53.352022</td>\n",
       "      <td>2018-01-01 15:30:00</td>\n",
       "      <td>0.0</td>\n",
       "      <td>0.0</td>\n",
       "      <td>0.0</td>\n",
       "      <td>1.0</td>\n",
       "      <td>1</td>\n",
       "    </tr>\n",
       "    <tr>\n",
       "      <th>3</th>\n",
       "      <td>CP:C8PJ7</td>\n",
       "      <td>StandardType2</td>\n",
       "      <td>Part</td>\n",
       "      <td>Q-Park Multi-Storey Car Park, Sean McDermott S...</td>\n",
       "      <td>-6.258432</td>\n",
       "      <td>53.352022</td>\n",
       "      <td>2018-01-01 15:20:00</td>\n",
       "      <td>0.0</td>\n",
       "      <td>0.0</td>\n",
       "      <td>0.0</td>\n",
       "      <td>1.0</td>\n",
       "      <td>1</td>\n",
       "    </tr>\n",
       "    <tr>\n",
       "      <th>4</th>\n",
       "      <td>CP:C8PJ7</td>\n",
       "      <td>StandardType2</td>\n",
       "      <td>Part</td>\n",
       "      <td>Q-Park Multi-Storey Car Park, Sean McDermott S...</td>\n",
       "      <td>-6.258432</td>\n",
       "      <td>53.352022</td>\n",
       "      <td>2018-01-01 15:35:00</td>\n",
       "      <td>0.0</td>\n",
       "      <td>0.0</td>\n",
       "      <td>0.0</td>\n",
       "      <td>1.0</td>\n",
       "      <td>1</td>\n",
       "    </tr>\n",
       "  </tbody>\n",
       "</table>\n",
       "</div>"
      ],
      "text/plain": [
       "  ChargePointID ChargePointType Status  \\\n",
       "0      CP:C8PJ7   StandardType2   Part   \n",
       "1      CP:C8PJ7   StandardType2   Part   \n",
       "2      CP:C8PJ7   StandardType2   Part   \n",
       "3      CP:C8PJ7   StandardType2   Part   \n",
       "4      CP:C8PJ7   StandardType2   Part   \n",
       "\n",
       "                                             Address  Latitude  Longitude  \\\n",
       "0  Q-Park Multi-Storey Car Park, Sean McDermott S... -6.258432  53.352022   \n",
       "1  Q-Park Multi-Storey Car Park, Sean McDermott S... -6.258432  53.352022   \n",
       "2  Q-Park Multi-Storey Car Park, Sean McDermott S... -6.258432  53.352022   \n",
       "3  Q-Park Multi-Storey Car Park, Sean McDermott S... -6.258432  53.352022   \n",
       "4  Q-Park Multi-Storey Car Park, Sean McDermott S... -6.258432  53.352022   \n",
       "\n",
       "    FormattedDatetime  OOC  OOS  Occ  Part  Status_Number  \n",
       "0 2018-01-01 15:20:00  0.0  0.0  0.0   1.0              1  \n",
       "1 2018-01-01 15:25:00  0.0  0.0  0.0   1.0              1  \n",
       "2 2018-01-01 15:30:00  0.0  0.0  0.0   1.0              1  \n",
       "3 2018-01-01 15:20:00  0.0  0.0  0.0   1.0              1  \n",
       "4 2018-01-01 15:35:00  0.0  0.0  0.0   1.0              1  "
      ]
     },
     "execution_count": 11,
     "metadata": {},
     "output_type": "execute_result"
    }
   ],
   "source": [
    "\n",
    "CS1AVAIL['Status_Number'] = (CS1AVAIL.Status != 'A').astype(int)\n",
    "  \n",
    "CS1AVAIL.head()\n"
   ]
  },
  {
   "cell_type": "code",
   "execution_count": 12,
   "metadata": {},
   "outputs": [
    {
     "data": {
      "text/html": [
       "<div>\n",
       "<style>\n",
       "    .dataframe thead tr:only-child th {\n",
       "        text-align: right;\n",
       "    }\n",
       "\n",
       "    .dataframe thead th {\n",
       "        text-align: left;\n",
       "    }\n",
       "\n",
       "    .dataframe tbody tr th {\n",
       "        vertical-align: top;\n",
       "    }\n",
       "</style>\n",
       "<table border=\"1\" class=\"dataframe\">\n",
       "  <thead>\n",
       "    <tr style=\"text-align: right;\">\n",
       "      <th></th>\n",
       "      <th>FormattedDatetime</th>\n",
       "      <th>OOC</th>\n",
       "      <th>OOS</th>\n",
       "      <th>Occ</th>\n",
       "      <th>Part</th>\n",
       "    </tr>\n",
       "  </thead>\n",
       "  <tbody>\n",
       "    <tr>\n",
       "      <th>0</th>\n",
       "      <td>2018-01-01 15:20:00</td>\n",
       "      <td>0.0</td>\n",
       "      <td>0.0</td>\n",
       "      <td>0.0</td>\n",
       "      <td>1.0</td>\n",
       "    </tr>\n",
       "    <tr>\n",
       "      <th>1</th>\n",
       "      <td>2018-01-01 15:25:00</td>\n",
       "      <td>0.0</td>\n",
       "      <td>0.0</td>\n",
       "      <td>0.0</td>\n",
       "      <td>1.0</td>\n",
       "    </tr>\n",
       "    <tr>\n",
       "      <th>2</th>\n",
       "      <td>2018-01-01 15:30:00</td>\n",
       "      <td>0.0</td>\n",
       "      <td>0.0</td>\n",
       "      <td>0.0</td>\n",
       "      <td>1.0</td>\n",
       "    </tr>\n",
       "    <tr>\n",
       "      <th>3</th>\n",
       "      <td>2018-01-01 15:20:00</td>\n",
       "      <td>0.0</td>\n",
       "      <td>0.0</td>\n",
       "      <td>0.0</td>\n",
       "      <td>1.0</td>\n",
       "    </tr>\n",
       "    <tr>\n",
       "      <th>4</th>\n",
       "      <td>2018-01-01 15:35:00</td>\n",
       "      <td>0.0</td>\n",
       "      <td>0.0</td>\n",
       "      <td>0.0</td>\n",
       "      <td>1.0</td>\n",
       "    </tr>\n",
       "  </tbody>\n",
       "</table>\n",
       "</div>"
      ],
      "text/plain": [
       "    FormattedDatetime  OOC  OOS  Occ  Part\n",
       "0 2018-01-01 15:20:00  0.0  0.0  0.0   1.0\n",
       "1 2018-01-01 15:25:00  0.0  0.0  0.0   1.0\n",
       "2 2018-01-01 15:30:00  0.0  0.0  0.0   1.0\n",
       "3 2018-01-01 15:20:00  0.0  0.0  0.0   1.0\n",
       "4 2018-01-01 15:35:00  0.0  0.0  0.0   1.0"
      ]
     },
     "execution_count": 12,
     "metadata": {},
     "output_type": "execute_result"
    }
   ],
   "source": [
    "\n",
    "CS1AVAIL.drop('ChargePointID',inplace=True,axis=1) \n",
    "CS1AVAIL.drop('ChargePointType',inplace=True,axis=1) \n",
    "CS1AVAIL.drop('Status',inplace=True,axis=1) \n",
    "CS1AVAIL.drop('Latitude',inplace=True,axis=1) \n",
    "CS1AVAIL.drop('Longitude',inplace=True,axis=1)  \n",
    "CS1AVAIL.drop('Address',inplace=True,axis=1) \n",
    "CS1AVAIL.drop('Status_Number',inplace=True,axis=1)  \n",
    "\n",
    "CS1AVAIL.head()"
   ]
  },
  {
   "cell_type": "code",
   "execution_count": 13,
   "metadata": {},
   "outputs": [],
   "source": [
    "\n",
    "CS1AVAIL = CS1AVAIL.set_index('FormattedDatetime')\n"
   ]
  },
  {
   "cell_type": "markdown",
   "metadata": {},
   "source": [
    "## Stationarity"
   ]
  },
  {
   "cell_type": "markdown",
   "metadata": {},
   "source": [
    "A stationary time series will more often than not give us a better set of predictions. Similar to the <b>Augmented Dickey-Fuller test</b> for univariate series, we have <b>Johansen’s test</b> for checking the stationarity of any multivariate time series data. Since the test works for only 12 variables, I have randomly dropped in the next iteration, I would drop another and check the eigenvalues."
   ]
  },
  {
   "cell_type": "markdown",
   "metadata": {},
   "source": [
    "### coint_johansen()"
   ]
  },
  {
   "cell_type": "markdown",
   "metadata": {},
   "source": [
    "`statsmodels.tsa.vector_ar.vecm.coint_johansen(endog, det_order, k_ar_diff)` - perform the Johansen cointegration test for determining the cointegration rank of a VECM. \n",
    "* <b>endog</b> - the data with presample.\n",
    "* <b>det_order: int</b> -\n",
    "  * <b>-1</b> - no deterministic terms.\n",
    "  * <b>0</b> - constant term.\n",
    "  * <b>1</b> - linear trend.\n",
    "* <b>k_ar_diff: int, nonnegative</b> - number of lagged differences in the model."
   ]
  },
  {
   "cell_type": "code",
   "execution_count": 14,
   "metadata": {
    "collapsed": true
   },
   "outputs": [],
   "source": [
    "#from statsmodels.tsa.vector_ar.vecm import coint_johansen"
   ]
  },
  {
   "cell_type": "code",
   "execution_count": 15,
   "metadata": {
    "collapsed": true
   },
   "outputs": [],
   "source": [
    "#johan_test_temp = data.drop(['CO(GT)'], axis=1)\n",
    "#coint_johansen(johan_test_temp, -1, 1).eig"
   ]
  },
  {
   "cell_type": "markdown",
   "metadata": {},
   "source": [
    "## Train-Validation Split"
   ]
  },
  {
   "cell_type": "markdown",
   "metadata": {},
   "source": [
    "Creating a validation set for time series problems is tricky because we have to take into account the time component. One cannot directly use the `train_test_split` or k-fold validation since this will disrupt the pattern in the series. The validation set should be created considering the date and time values."
   ]
  },
  {
   "cell_type": "code",
   "execution_count": 16,
   "metadata": {
    "collapsed": true
   },
   "outputs": [],
   "source": [
    "train = CS1AVAIL[:int(0.8*(len(CS1AVAIL)))]\n",
    "valid = CS1AVAIL[int(0.8*(len(CS1AVAIL))):]"
   ]
  },
  {
   "cell_type": "markdown",
   "metadata": {},
   "source": [
    "## Vector Autoregression (VAR)"
   ]
  },
  {
   "cell_type": "markdown",
   "metadata": {},
   "source": [
    "In a <b>VAR</b> model, each variable is a linear function of the past values of itself and the past values of all the other variables. Unlike AR, VAR is able to understand and use the relationship between several variables. This is useful for describing the dynamic behavior of the data and also provides better forecasting results. Additionally, implementing VAR is as simple as using any other univariate technique."
   ]
  },
  {
   "cell_type": "code",
   "execution_count": 17,
   "metadata": {},
   "outputs": [
    {
     "name": "stderr",
     "output_type": "stream",
     "text": [
      "C:\\Program Files (x86)\\Microsoft Visual Studio\\Shared\\Anaconda3_64\\lib\\site-packages\\statsmodels\\compat\\pandas.py:56: FutureWarning: The pandas.core.datetools module is deprecated and will be removed in a future version. Please use the pandas.tseries module instead.\n",
      "  from pandas.core import datetools\n"
     ]
    }
   ],
   "source": [
    "from statsmodels.tsa.vector_ar.var_model import VAR"
   ]
  },
  {
   "cell_type": "markdown",
   "metadata": {},
   "source": [
    "### VAR()"
   ]
  },
  {
   "cell_type": "markdown",
   "metadata": {},
   "source": [
    "`statsmodels.tsa.vector_ar.var_model.VAR(endog, exog=None, dates=None, freq=None, missing='none')` - fit VAR(p) process and do lag order selection.\n",
    "\\begin{equation*} \n",
    "y_t = A_1y_{t-1} + ... + A_py_{t-p} + u_t\n",
    "\\end{equation*}\n",
    "* <b>endog</b> - 2-d endogenous response variable. The independent variable.\n",
    "* <b>exog</b> - 2-d exogenous variable.\n",
    "* <b>dates</b> - must match number of rows of endog"
   ]
  },
  {
   "cell_type": "code",
   "execution_count": 18,
   "metadata": {
    "collapsed": true
   },
   "outputs": [],
   "source": [
    "# Fit the model\n",
    "model = VAR(endog=train)\n",
    "model_fit = model.fit()\n",
    "\n",
    "# Make prediction on validation\n",
    "prediction = model_fit.forecast(model_fit.y, steps=len(valid))"
   ]
  },
  {
   "cell_type": "code",
   "execution_count": 19,
   "metadata": {
    "collapsed": true
   },
   "outputs": [],
   "source": [
    "# Convert array to DataFrame\n",
    "cols = CS1AVAIL.columns\n",
    "pred = pd.DataFrame(index=range(0, len(prediction)), columns=[cols])\n",
    "\n",
    "for j in range(0, len(cols)):\n",
    "    for i in range(0, len(prediction)):\n",
    "        pred.iloc[i][j] = prediction[i][j]"
   ]
  },
  {
   "cell_type": "code",
   "execution_count": 20,
   "metadata": {
    "collapsed": true
   },
   "outputs": [],
   "source": [
    " \n",
    "pred = pred.dropna(axis = 0, how ='any')  \n"
   ]
  },
  {
   "cell_type": "code",
   "execution_count": 21,
   "metadata": {},
   "outputs": [
    {
     "name": "stdout",
     "output_type": "stream",
     "text": [
      "RMSE value for OOC is: 6.902355878913089e-13\n",
      "RMSE value for OOS is: 0.0\n",
      "RMSE value for Occ is: 2.0032042855947532e-13\n",
      "RMSE value for Part is: 2.7677889792880927e-12\n"
     ]
    }
   ],
   "source": [
    "# RMSE\n",
    "for i in cols:\n",
    "    print('RMSE value for', i, 'is:', sqrt(mean_squared_error(pred[i], valid[i])))"
   ]
  },
  {
   "cell_type": "code",
   "execution_count": 22,
   "metadata": {
    "collapsed": true
   },
   "outputs": [],
   "source": [
    "# Make final predictions\n",
    "model = VAR(endog=CS1AVAIL)\n",
    "model_fit = model.fit()\n",
    " "
   ]
  },
  {
   "cell_type": "code",
   "execution_count": 23,
   "metadata": {},
   "outputs": [
    {
     "name": "stdout",
     "output_type": "stream",
     "text": [
      "[[  1.00292092e-15   0.00000000e+00   5.19189356e-16   1.73625442e-15]]\n"
     ]
    }
   ],
   "source": [
    "\n",
    "yhat = model_fit.forecast(model_fit.y, steps=1)\n",
    "print(yhat)"
   ]
  }
 ],
 "metadata": {
  "kernelspec": {
   "display_name": "Python 3",
   "language": "python",
   "name": "python3"
  },
  "language_info": {
   "codemirror_mode": {
    "name": "ipython",
    "version": 3
   },
   "file_extension": ".py",
   "mimetype": "text/x-python",
   "name": "python",
   "nbconvert_exporter": "python",
   "pygments_lexer": "ipython3",
   "version": "3.6.2"
  }
 },
 "nbformat": 4,
 "nbformat_minor": 2
}
