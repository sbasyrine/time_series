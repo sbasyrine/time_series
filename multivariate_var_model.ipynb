{
 "cells": [
  {
   "cell_type": "markdown",
   "metadata": {},
   "source": [
    "# Vector Autoregression (VAR)"
   ]
  },
  {
   "cell_type": "code",
   "execution_count": 282,
   "metadata": {
    "collapsed": true
   },
   "outputs": [],
   "source": [
    "from IPython.display import display, Markdown\n",
    "from math import sqrt\n",
    "import pandas as pd\n",
    "import matplotlib.pyplot as plt\n",
    "%matplotlib inline\n",
    "from sklearn.metrics import mean_squared_error"
   ]
  },
  {
   "cell_type": "markdown",
   "metadata": {},
   "source": [
    "# Charging station Dataset"
   ]
  },
  {
   "cell_type": "code",
   "execution_count": 283,
   "metadata": {
    "collapsed": true
   },
   "outputs": [],
   "source": [
    "# Load in the dataset\n",
    "full_data =  pd.read_csv('C:/Users/Sirine/Desktop/Maseer/201801a.txt',sep='\\t', encoding=\"utf-8\" ,names = [\"Datetime\",\"Time\",\"ChargePointID\",\"ChargePointType\",\"Status\",\"Latitude_Longitude\",\"Address\",    \"Latitude\",\"Longitude\"])\n"
   ]
  },
  {
   "cell_type": "code",
   "execution_count": 284,
   "metadata": {},
   "outputs": [
    {
     "data": {
      "text/html": [
       "<div>\n",
       "<style>\n",
       "    .dataframe thead tr:only-child th {\n",
       "        text-align: right;\n",
       "    }\n",
       "\n",
       "    .dataframe thead th {\n",
       "        text-align: left;\n",
       "    }\n",
       "\n",
       "    .dataframe tbody tr th {\n",
       "        vertical-align: top;\n",
       "    }\n",
       "</style>\n",
       "<table border=\"1\" class=\"dataframe\">\n",
       "  <thead>\n",
       "    <tr style=\"text-align: right;\">\n",
       "      <th></th>\n",
       "      <th>Datetime</th>\n",
       "      <th>Time</th>\n",
       "      <th>ChargePointID</th>\n",
       "      <th>ChargePointType</th>\n",
       "      <th>Status</th>\n",
       "      <th>Latitude_Longitude</th>\n",
       "      <th>Address</th>\n",
       "      <th>Latitude</th>\n",
       "      <th>Longitude</th>\n",
       "    </tr>\n",
       "  </thead>\n",
       "  <tbody>\n",
       "    <tr>\n",
       "      <th>1477841</th>\n",
       "      <td>20180110</td>\n",
       "      <td>1535</td>\n",
       "      <td>NaN</td>\n",
       "      <td>NaN</td>\n",
       "      <td>NaN</td>\n",
       "      <td>NaN</td>\n",
       "      <td>NaN</td>\n",
       "      <td>0.0</td>\n",
       "      <td>0.0</td>\n",
       "    </tr>\n",
       "    <tr>\n",
       "      <th>1477842</th>\n",
       "      <td>20180110</td>\n",
       "      <td>1555</td>\n",
       "      <td>NaN</td>\n",
       "      <td>NaN</td>\n",
       "      <td>NaN</td>\n",
       "      <td>NaN</td>\n",
       "      <td>NaN</td>\n",
       "      <td>0.0</td>\n",
       "      <td>0.0</td>\n",
       "    </tr>\n",
       "    <tr>\n",
       "      <th>1477843</th>\n",
       "      <td>20180110</td>\n",
       "      <td>1635</td>\n",
       "      <td>NaN</td>\n",
       "      <td>NaN</td>\n",
       "      <td>NaN</td>\n",
       "      <td>NaN</td>\n",
       "      <td>NaN</td>\n",
       "      <td>0.0</td>\n",
       "      <td>0.0</td>\n",
       "    </tr>\n",
       "    <tr>\n",
       "      <th>1477844</th>\n",
       "      <td>20180110</td>\n",
       "      <td>1705</td>\n",
       "      <td>NaN</td>\n",
       "      <td>NaN</td>\n",
       "      <td>NaN</td>\n",
       "      <td>NaN</td>\n",
       "      <td>NaN</td>\n",
       "      <td>0.0</td>\n",
       "      <td>0.0</td>\n",
       "    </tr>\n",
       "    <tr>\n",
       "      <th>1477845</th>\n",
       "      <td>20180128</td>\n",
       "      <td>2030</td>\n",
       "      <td>NaN</td>\n",
       "      <td>NaN</td>\n",
       "      <td>NaN</td>\n",
       "      <td>NaN</td>\n",
       "      <td>NaN</td>\n",
       "      <td>0.0</td>\n",
       "      <td>0.0</td>\n",
       "    </tr>\n",
       "  </tbody>\n",
       "</table>\n",
       "</div>"
      ],
      "text/plain": [
       "         Datetime  Time ChargePointID ChargePointType Status  \\\n",
       "1477841  20180110  1535           NaN             NaN    NaN   \n",
       "1477842  20180110  1555           NaN             NaN    NaN   \n",
       "1477843  20180110  1635           NaN             NaN    NaN   \n",
       "1477844  20180110  1705           NaN             NaN    NaN   \n",
       "1477845  20180128  2030           NaN             NaN    NaN   \n",
       "\n",
       "        Latitude_Longitude Address  Latitude  Longitude  \n",
       "1477841                NaN     NaN       0.0        0.0  \n",
       "1477842                NaN     NaN       0.0        0.0  \n",
       "1477843                NaN     NaN       0.0        0.0  \n",
       "1477844                NaN     NaN       0.0        0.0  \n",
       "1477845                NaN     NaN       0.0        0.0  "
      ]
     },
     "execution_count": 284,
     "metadata": {},
     "output_type": "execute_result"
    }
   ],
   "source": [
    " full_data.tail()"
   ]
  },
  {
   "cell_type": "code",
   "execution_count": 285,
   "metadata": {
    "collapsed": true
   },
   "outputs": [],
   "source": [
    "# Clean empty rows\n",
    "full_data = full_data.dropna(axis=0)"
   ]
  },
  {
   "cell_type": "code",
   "execution_count": 286,
   "metadata": {},
   "outputs": [
    {
     "data": {
      "text/html": [
       "<div>\n",
       "<style>\n",
       "    .dataframe thead tr:only-child th {\n",
       "        text-align: right;\n",
       "    }\n",
       "\n",
       "    .dataframe thead th {\n",
       "        text-align: left;\n",
       "    }\n",
       "\n",
       "    .dataframe tbody tr th {\n",
       "        vertical-align: top;\n",
       "    }\n",
       "</style>\n",
       "<table border=\"1\" class=\"dataframe\">\n",
       "  <thead>\n",
       "    <tr style=\"text-align: right;\">\n",
       "      <th></th>\n",
       "      <th>Datetime</th>\n",
       "      <th>Time</th>\n",
       "      <th>ChargePointID</th>\n",
       "      <th>ChargePointType</th>\n",
       "      <th>Status</th>\n",
       "      <th>Latitude_Longitude</th>\n",
       "      <th>Address</th>\n",
       "      <th>Latitude</th>\n",
       "      <th>Longitude</th>\n",
       "    </tr>\n",
       "  </thead>\n",
       "  <tbody>\n",
       "    <tr>\n",
       "      <th>1477732</th>\n",
       "      <td>20180102</td>\n",
       "      <td>1805</td>\n",
       "      <td>CP:CBHM9</td>\n",
       "      <td>CHAdeMO</td>\n",
       "      <td>Occ</td>\n",
       "      <td>-6.289287,52.678070</td>\n",
       "      <td>Maxol Service Station, Arklow Road, Gorey, Cou...</td>\n",
       "      <td>-6.289287</td>\n",
       "      <td>52.678070</td>\n",
       "    </tr>\n",
       "    <tr>\n",
       "      <th>1477733</th>\n",
       "      <td>20180102</td>\n",
       "      <td>1805</td>\n",
       "      <td>CP:C9Q9H</td>\n",
       "      <td>CHAdeMO</td>\n",
       "      <td>OOS</td>\n",
       "      <td>-6.108436,53.195180</td>\n",
       "      <td>Tesco, Vevay Road, Bray, County Wicklow</td>\n",
       "      <td>-6.108436</td>\n",
       "      <td>53.195180</td>\n",
       "    </tr>\n",
       "    <tr>\n",
       "      <th>1477734</th>\n",
       "      <td>20180102</td>\n",
       "      <td>1805</td>\n",
       "      <td>CP:RC07</td>\n",
       "      <td>CHAdeMO</td>\n",
       "      <td>Occ</td>\n",
       "      <td>-6.232485,54.730728</td>\n",
       "      <td>Texaco, Junction One Shopping Centre, Ballymen...</td>\n",
       "      <td>-6.232485</td>\n",
       "      <td>54.730728</td>\n",
       "    </tr>\n",
       "    <tr>\n",
       "      <th>1477735</th>\n",
       "      <td>20180102</td>\n",
       "      <td>1805</td>\n",
       "      <td>CP:RC11</td>\n",
       "      <td>CHAdeMO</td>\n",
       "      <td>OOS</td>\n",
       "      <td>-7.306255,54.995194</td>\n",
       "      <td>Maxol Service Station, Glendermot Road, Waters...</td>\n",
       "      <td>-7.306255</td>\n",
       "      <td>54.995194</td>\n",
       "    </tr>\n",
       "    <tr>\n",
       "      <th>1477736</th>\n",
       "      <td>20180102</td>\n",
       "      <td>1805</td>\n",
       "      <td>CP:RC14</td>\n",
       "      <td>CHAdeMO</td>\n",
       "      <td>Occ</td>\n",
       "      <td>-5.938419,54.547852</td>\n",
       "      <td>Maxol Service Station, Shaws Bridge, Milltown ...</td>\n",
       "      <td>-5.938419</td>\n",
       "      <td>54.547852</td>\n",
       "    </tr>\n",
       "  </tbody>\n",
       "</table>\n",
       "</div>"
      ],
      "text/plain": [
       "         Datetime  Time ChargePointID ChargePointType Status  \\\n",
       "1477732  20180102  1805      CP:CBHM9         CHAdeMO    Occ   \n",
       "1477733  20180102  1805      CP:C9Q9H         CHAdeMO    OOS   \n",
       "1477734  20180102  1805       CP:RC07         CHAdeMO    Occ   \n",
       "1477735  20180102  1805       CP:RC11         CHAdeMO    OOS   \n",
       "1477736  20180102  1805       CP:RC14         CHAdeMO    Occ   \n",
       "\n",
       "          Latitude_Longitude  \\\n",
       "1477732  -6.289287,52.678070   \n",
       "1477733  -6.108436,53.195180   \n",
       "1477734  -6.232485,54.730728   \n",
       "1477735  -7.306255,54.995194   \n",
       "1477736  -5.938419,54.547852   \n",
       "\n",
       "                                                   Address  Latitude  \\\n",
       "1477732  Maxol Service Station, Arklow Road, Gorey, Cou... -6.289287   \n",
       "1477733            Tesco, Vevay Road, Bray, County Wicklow -6.108436   \n",
       "1477734  Texaco, Junction One Shopping Centre, Ballymen... -6.232485   \n",
       "1477735  Maxol Service Station, Glendermot Road, Waters... -7.306255   \n",
       "1477736  Maxol Service Station, Shaws Bridge, Milltown ... -5.938419   \n",
       "\n",
       "         Longitude  \n",
       "1477732  52.678070  \n",
       "1477733  53.195180  \n",
       "1477734  54.730728  \n",
       "1477735  54.995194  \n",
       "1477736  54.547852  "
      ]
     },
     "execution_count": 286,
     "metadata": {},
     "output_type": "execute_result"
    }
   ],
   "source": [
    " full_data.tail()"
   ]
  },
  {
   "cell_type": "code",
   "execution_count": 287,
   "metadata": {
    "collapsed": true
   },
   "outputs": [],
   "source": [
    "def report(df):\n",
    "    display(Markdown('<b>head():</b>'))\n",
    "    display(df.head())\n",
    "    display(Markdown('<b>describe():</b>'))\n",
    "    display(df.describe())\n",
    "    display(Markdown('<b>info():</b>'))\n",
    "    display(df.info(verbose=True))\n",
    "    display(Markdown('<b>infer_dtype():</b>'))\n",
    "    display(df.apply(lambda x: pd.api.types.infer_dtype(x.values)))"
   ]
  },
  {
   "cell_type": "code",
   "execution_count": 288,
   "metadata": {},
   "outputs": [
    {
     "data": {
      "text/markdown": [
       "<b>head():</b>"
      ],
      "text/plain": [
       "<IPython.core.display.Markdown object>"
      ]
     },
     "metadata": {},
     "output_type": "display_data"
    },
    {
     "data": {
      "text/html": [
       "<div>\n",
       "<style>\n",
       "    .dataframe thead tr:only-child th {\n",
       "        text-align: right;\n",
       "    }\n",
       "\n",
       "    .dataframe thead th {\n",
       "        text-align: left;\n",
       "    }\n",
       "\n",
       "    .dataframe tbody tr th {\n",
       "        vertical-align: top;\n",
       "    }\n",
       "</style>\n",
       "<table border=\"1\" class=\"dataframe\">\n",
       "  <thead>\n",
       "    <tr style=\"text-align: right;\">\n",
       "      <th></th>\n",
       "      <th>Datetime</th>\n",
       "      <th>Time</th>\n",
       "      <th>ChargePointID</th>\n",
       "      <th>ChargePointType</th>\n",
       "      <th>Status</th>\n",
       "      <th>Latitude_Longitude</th>\n",
       "      <th>Address</th>\n",
       "      <th>Latitude</th>\n",
       "      <th>Longitude</th>\n",
       "    </tr>\n",
       "  </thead>\n",
       "  <tbody>\n",
       "    <tr>\n",
       "      <th>0</th>\n",
       "      <td>20180101</td>\n",
       "      <td>1</td>\n",
       "      <td>CP:C6FD3</td>\n",
       "      <td>StandardType2</td>\n",
       "      <td>OOS</td>\n",
       "      <td>-6.933468,52.836332</td>\n",
       "      <td>Public Car Park, Kennedy Street, Carlow Town, ...</td>\n",
       "      <td>-6.933468</td>\n",
       "      <td>52.836332</td>\n",
       "    </tr>\n",
       "    <tr>\n",
       "      <th>1</th>\n",
       "      <td>20180101</td>\n",
       "      <td>1</td>\n",
       "      <td>CP:C7WLM</td>\n",
       "      <td>StandardType2</td>\n",
       "      <td>OOC</td>\n",
       "      <td>-6.972487,53.917571</td>\n",
       "      <td>Main Street, Bailieborough, County Cavan</td>\n",
       "      <td>-6.972487</td>\n",
       "      <td>53.917571</td>\n",
       "    </tr>\n",
       "    <tr>\n",
       "      <th>2</th>\n",
       "      <td>20180101</td>\n",
       "      <td>1</td>\n",
       "      <td>CP:C4FVM</td>\n",
       "      <td>StandardType2</td>\n",
       "      <td>OOS</td>\n",
       "      <td>-9.346292,52.928911</td>\n",
       "      <td>Public Car Park, N67/Milltown Malbay Road, Lah...</td>\n",
       "      <td>-9.346292</td>\n",
       "      <td>52.928911</td>\n",
       "    </tr>\n",
       "    <tr>\n",
       "      <th>3</th>\n",
       "      <td>20180101</td>\n",
       "      <td>1</td>\n",
       "      <td>CP:C6Q3G</td>\n",
       "      <td>StandardType2</td>\n",
       "      <td>OOC</td>\n",
       "      <td>-8.889570,51.620831</td>\n",
       "      <td>Deasy's Public Car Park, Park Road (N71), Clon...</td>\n",
       "      <td>-8.889570</td>\n",
       "      <td>51.620831</td>\n",
       "    </tr>\n",
       "    <tr>\n",
       "      <th>4</th>\n",
       "      <td>20180101</td>\n",
       "      <td>1</td>\n",
       "      <td>CP:C6J53</td>\n",
       "      <td>StandardType2</td>\n",
       "      <td>Part</td>\n",
       "      <td>-8.473326,51.896298</td>\n",
       "      <td>51 South Mall, Cork City, County Cork</td>\n",
       "      <td>-8.473326</td>\n",
       "      <td>51.896298</td>\n",
       "    </tr>\n",
       "  </tbody>\n",
       "</table>\n",
       "</div>"
      ],
      "text/plain": [
       "   Datetime  Time ChargePointID ChargePointType Status   Latitude_Longitude  \\\n",
       "0  20180101     1      CP:C6FD3   StandardType2    OOS  -6.933468,52.836332   \n",
       "1  20180101     1      CP:C7WLM   StandardType2    OOC  -6.972487,53.917571   \n",
       "2  20180101     1      CP:C4FVM   StandardType2    OOS  -9.346292,52.928911   \n",
       "3  20180101     1      CP:C6Q3G   StandardType2    OOC  -8.889570,51.620831   \n",
       "4  20180101     1      CP:C6J53   StandardType2   Part  -8.473326,51.896298   \n",
       "\n",
       "                                             Address  Latitude  Longitude  \n",
       "0  Public Car Park, Kennedy Street, Carlow Town, ... -6.933468  52.836332  \n",
       "1           Main Street, Bailieborough, County Cavan -6.972487  53.917571  \n",
       "2  Public Car Park, N67/Milltown Malbay Road, Lah... -9.346292  52.928911  \n",
       "3  Deasy's Public Car Park, Park Road (N71), Clon... -8.889570  51.620831  \n",
       "4              51 South Mall, Cork City, County Cork -8.473326  51.896298  "
      ]
     },
     "metadata": {},
     "output_type": "display_data"
    },
    {
     "data": {
      "text/markdown": [
       "<b>describe():</b>"
      ],
      "text/plain": [
       "<IPython.core.display.Markdown object>"
      ]
     },
     "metadata": {},
     "output_type": "display_data"
    },
    {
     "data": {
      "text/html": [
       "<div>\n",
       "<style>\n",
       "    .dataframe thead tr:only-child th {\n",
       "        text-align: right;\n",
       "    }\n",
       "\n",
       "    .dataframe thead th {\n",
       "        text-align: left;\n",
       "    }\n",
       "\n",
       "    .dataframe tbody tr th {\n",
       "        vertical-align: top;\n",
       "    }\n",
       "</style>\n",
       "<table border=\"1\" class=\"dataframe\">\n",
       "  <thead>\n",
       "    <tr style=\"text-align: right;\">\n",
       "      <th></th>\n",
       "      <th>Datetime</th>\n",
       "      <th>Time</th>\n",
       "      <th>Latitude</th>\n",
       "      <th>Longitude</th>\n",
       "    </tr>\n",
       "  </thead>\n",
       "  <tbody>\n",
       "    <tr>\n",
       "      <th>count</th>\n",
       "      <td>1.449257e+06</td>\n",
       "      <td>1.449257e+06</td>\n",
       "      <td>1.449257e+06</td>\n",
       "      <td>1.449257e+06</td>\n",
       "    </tr>\n",
       "    <tr>\n",
       "      <th>mean</th>\n",
       "      <td>2.018012e+07</td>\n",
       "      <td>1.252129e+03</td>\n",
       "      <td>-7.124657e+00</td>\n",
       "      <td>5.346792e+01</td>\n",
       "    </tr>\n",
       "    <tr>\n",
       "      <th>std</th>\n",
       "      <td>8.964404e+00</td>\n",
       "      <td>6.324821e+02</td>\n",
       "      <td>1.109551e+00</td>\n",
       "      <td>9.012838e-01</td>\n",
       "    </tr>\n",
       "    <tr>\n",
       "      <th>min</th>\n",
       "      <td>2.018010e+07</td>\n",
       "      <td>0.000000e+00</td>\n",
       "      <td>-1.027879e+01</td>\n",
       "      <td>5.155391e+01</td>\n",
       "    </tr>\n",
       "    <tr>\n",
       "      <th>25%</th>\n",
       "      <td>2.018011e+07</td>\n",
       "      <td>8.070000e+02</td>\n",
       "      <td>-7.926661e+00</td>\n",
       "      <td>5.286456e+01</td>\n",
       "    </tr>\n",
       "    <tr>\n",
       "      <th>50%</th>\n",
       "      <td>2.018012e+07</td>\n",
       "      <td>1.306000e+03</td>\n",
       "      <td>-6.665187e+00</td>\n",
       "      <td>5.335386e+01</td>\n",
       "    </tr>\n",
       "    <tr>\n",
       "      <th>75%</th>\n",
       "      <td>2.018012e+07</td>\n",
       "      <td>1.743000e+03</td>\n",
       "      <td>-6.232894e+00</td>\n",
       "      <td>5.432521e+01</td>\n",
       "    </tr>\n",
       "    <tr>\n",
       "      <th>max</th>\n",
       "      <td>2.018013e+07</td>\n",
       "      <td>2.359000e+03</td>\n",
       "      <td>-5.547600e+00</td>\n",
       "      <td>5.525138e+01</td>\n",
       "    </tr>\n",
       "  </tbody>\n",
       "</table>\n",
       "</div>"
      ],
      "text/plain": [
       "           Datetime          Time      Latitude     Longitude\n",
       "count  1.449257e+06  1.449257e+06  1.449257e+06  1.449257e+06\n",
       "mean   2.018012e+07  1.252129e+03 -7.124657e+00  5.346792e+01\n",
       "std    8.964404e+00  6.324821e+02  1.109551e+00  9.012838e-01\n",
       "min    2.018010e+07  0.000000e+00 -1.027879e+01  5.155391e+01\n",
       "25%    2.018011e+07  8.070000e+02 -7.926661e+00  5.286456e+01\n",
       "50%    2.018012e+07  1.306000e+03 -6.665187e+00  5.335386e+01\n",
       "75%    2.018012e+07  1.743000e+03 -6.232894e+00  5.432521e+01\n",
       "max    2.018013e+07  2.359000e+03 -5.547600e+00  5.525138e+01"
      ]
     },
     "metadata": {},
     "output_type": "display_data"
    },
    {
     "data": {
      "text/markdown": [
       "<b>info():</b>"
      ],
      "text/plain": [
       "<IPython.core.display.Markdown object>"
      ]
     },
     "metadata": {},
     "output_type": "display_data"
    },
    {
     "name": "stdout",
     "output_type": "stream",
     "text": [
      "<class 'pandas.core.frame.DataFrame'>\n",
      "Int64Index: 1449257 entries, 0 to 1477736\n",
      "Data columns (total 9 columns):\n",
      "Datetime              1449257 non-null int64\n",
      "Time                  1449257 non-null int64\n",
      "ChargePointID         1449257 non-null object\n",
      "ChargePointType       1449257 non-null object\n",
      "Status                1449257 non-null object\n",
      "Latitude_Longitude    1449257 non-null object\n",
      "Address               1449257 non-null object\n",
      "Latitude              1449257 non-null float64\n",
      "Longitude             1449257 non-null float64\n",
      "dtypes: float64(2), int64(2), object(5)\n",
      "memory usage: 110.6+ MB\n"
     ]
    },
    {
     "data": {
      "text/plain": [
       "None"
      ]
     },
     "metadata": {},
     "output_type": "display_data"
    },
    {
     "data": {
      "text/markdown": [
       "<b>infer_dtype():</b>"
      ],
      "text/plain": [
       "<IPython.core.display.Markdown object>"
      ]
     },
     "metadata": {},
     "output_type": "display_data"
    },
    {
     "data": {
      "text/plain": [
       "Datetime               integer\n",
       "Time                   integer\n",
       "ChargePointID           string\n",
       "ChargePointType         string\n",
       "Status                  string\n",
       "Latitude_Longitude      string\n",
       "Address                 string\n",
       "Latitude              floating\n",
       "Longitude             floating\n",
       "dtype: object"
      ]
     },
     "metadata": {},
     "output_type": "display_data"
    }
   ],
   "source": [
    "report(full_data)"
   ]
  },
  {
   "cell_type": "code",
   "execution_count": 289,
   "metadata": {},
   "outputs": [
    {
     "data": {
      "text/html": [
       "<div>\n",
       "<style>\n",
       "    .dataframe thead tr:only-child th {\n",
       "        text-align: right;\n",
       "    }\n",
       "\n",
       "    .dataframe thead th {\n",
       "        text-align: left;\n",
       "    }\n",
       "\n",
       "    .dataframe tbody tr th {\n",
       "        vertical-align: top;\n",
       "    }\n",
       "</style>\n",
       "<table border=\"1\" class=\"dataframe\">\n",
       "  <thead>\n",
       "    <tr style=\"text-align: right;\">\n",
       "      <th></th>\n",
       "      <th>ChargePointID</th>\n",
       "      <th>ChargePointType</th>\n",
       "      <th>Status</th>\n",
       "      <th>Latitude_Longitude</th>\n",
       "      <th>Address</th>\n",
       "      <th>Latitude</th>\n",
       "      <th>Longitude</th>\n",
       "      <th>FormattedDatetime</th>\n",
       "    </tr>\n",
       "  </thead>\n",
       "  <tbody>\n",
       "    <tr>\n",
       "      <th>0</th>\n",
       "      <td>CP:C6FD3</td>\n",
       "      <td>StandardType2</td>\n",
       "      <td>OOS</td>\n",
       "      <td>-6.933468,52.836332</td>\n",
       "      <td>Public Car Park, Kennedy Street, Carlow Town, ...</td>\n",
       "      <td>-6.933468</td>\n",
       "      <td>52.836332</td>\n",
       "      <td>2018-01-01 00:01:00</td>\n",
       "    </tr>\n",
       "    <tr>\n",
       "      <th>1</th>\n",
       "      <td>CP:C7WLM</td>\n",
       "      <td>StandardType2</td>\n",
       "      <td>OOC</td>\n",
       "      <td>-6.972487,53.917571</td>\n",
       "      <td>Main Street, Bailieborough, County Cavan</td>\n",
       "      <td>-6.972487</td>\n",
       "      <td>53.917571</td>\n",
       "      <td>2018-01-01 00:01:00</td>\n",
       "    </tr>\n",
       "    <tr>\n",
       "      <th>2</th>\n",
       "      <td>CP:C4FVM</td>\n",
       "      <td>StandardType2</td>\n",
       "      <td>OOS</td>\n",
       "      <td>-9.346292,52.928911</td>\n",
       "      <td>Public Car Park, N67/Milltown Malbay Road, Lah...</td>\n",
       "      <td>-9.346292</td>\n",
       "      <td>52.928911</td>\n",
       "      <td>2018-01-01 00:01:00</td>\n",
       "    </tr>\n",
       "    <tr>\n",
       "      <th>3</th>\n",
       "      <td>CP:C6Q3G</td>\n",
       "      <td>StandardType2</td>\n",
       "      <td>OOC</td>\n",
       "      <td>-8.889570,51.620831</td>\n",
       "      <td>Deasy's Public Car Park, Park Road (N71), Clon...</td>\n",
       "      <td>-8.889570</td>\n",
       "      <td>51.620831</td>\n",
       "      <td>2018-01-01 00:01:00</td>\n",
       "    </tr>\n",
       "    <tr>\n",
       "      <th>4</th>\n",
       "      <td>CP:C6J53</td>\n",
       "      <td>StandardType2</td>\n",
       "      <td>Part</td>\n",
       "      <td>-8.473326,51.896298</td>\n",
       "      <td>51 South Mall, Cork City, County Cork</td>\n",
       "      <td>-8.473326</td>\n",
       "      <td>51.896298</td>\n",
       "      <td>2018-01-01 00:01:00</td>\n",
       "    </tr>\n",
       "  </tbody>\n",
       "</table>\n",
       "</div>"
      ],
      "text/plain": [
       "  ChargePointID ChargePointType Status   Latitude_Longitude  \\\n",
       "0      CP:C6FD3   StandardType2    OOS  -6.933468,52.836332   \n",
       "1      CP:C7WLM   StandardType2    OOC  -6.972487,53.917571   \n",
       "2      CP:C4FVM   StandardType2    OOS  -9.346292,52.928911   \n",
       "3      CP:C6Q3G   StandardType2    OOC  -8.889570,51.620831   \n",
       "4      CP:C6J53   StandardType2   Part  -8.473326,51.896298   \n",
       "\n",
       "                                             Address  Latitude  Longitude  \\\n",
       "0  Public Car Park, Kennedy Street, Carlow Town, ... -6.933468  52.836332   \n",
       "1           Main Street, Bailieborough, County Cavan -6.972487  53.917571   \n",
       "2  Public Car Park, N67/Milltown Malbay Road, Lah... -9.346292  52.928911   \n",
       "3  Deasy's Public Car Park, Park Road (N71), Clon... -8.889570  51.620831   \n",
       "4              51 South Mall, Cork City, County Cork -8.473326  51.896298   \n",
       "\n",
       "    FormattedDatetime  \n",
       "0 2018-01-01 00:01:00  \n",
       "1 2018-01-01 00:01:00  \n",
       "2 2018-01-01 00:01:00  \n",
       "3 2018-01-01 00:01:00  \n",
       "4 2018-01-01 00:01:00  "
      ]
     },
     "execution_count": 289,
     "metadata": {},
     "output_type": "execute_result"
    }
   ],
   "source": [
    "#convert Datetime to str to combine date (Datetime) and time (Time)\n",
    "full_data.Datetime = full_data.Datetime.astype(str)\n",
    "\n",
    "#convert Time to str to combine date (Datetime) and time (Time)\n",
    "full_data.Time = full_data.Time.astype(str)\n",
    "#add Time to Datetime column\n",
    "full_data['Datetime'] = full_data['Datetime'].str.cat(full_data['Time'].values.astype(str), sep='')\n",
    "#now I don't need the Time column anymone (since it was added to the Datetime column)\n",
    " \n",
    "\n",
    "full_data['Date'] = full_data.Datetime.str.slice(0,8)\n",
    "full_data['Time'] = full_data.Datetime.str.slice(8)\n",
    "full_data['Time'] = full_data['Time'].apply(lambda val: '{:0>4}'.format(val))\n",
    "full_data['Datetime'] = full_data['Date'] + \" \" + full_data[\"Time\"]\n",
    "\n",
    "#now let's finally convert Datetime to type datetime in column FormattedDatetime \n",
    "\n",
    "full_data['FormattedDatetime'] = pd.to_datetime(full_data.Datetime,format=\"%Y%m%d %H%M\")\n",
    "del full_data['Datetime']\n",
    "del full_data['Date']\n",
    "del full_data['Time']\n",
    "\n",
    "full_data.head()"
   ]
  },
  {
   "cell_type": "code",
   "execution_count": 290,
   "metadata": {},
   "outputs": [
    {
     "data": {
      "text/markdown": [
       "<b>head():</b>"
      ],
      "text/plain": [
       "<IPython.core.display.Markdown object>"
      ]
     },
     "metadata": {},
     "output_type": "display_data"
    },
    {
     "data": {
      "text/html": [
       "<div>\n",
       "<style>\n",
       "    .dataframe thead tr:only-child th {\n",
       "        text-align: right;\n",
       "    }\n",
       "\n",
       "    .dataframe thead th {\n",
       "        text-align: left;\n",
       "    }\n",
       "\n",
       "    .dataframe tbody tr th {\n",
       "        vertical-align: top;\n",
       "    }\n",
       "</style>\n",
       "<table border=\"1\" class=\"dataframe\">\n",
       "  <thead>\n",
       "    <tr style=\"text-align: right;\">\n",
       "      <th></th>\n",
       "      <th>ChargePointID</th>\n",
       "      <th>ChargePointType</th>\n",
       "      <th>Status</th>\n",
       "      <th>Latitude_Longitude</th>\n",
       "      <th>Address</th>\n",
       "      <th>Latitude</th>\n",
       "      <th>Longitude</th>\n",
       "      <th>FormattedDatetime</th>\n",
       "    </tr>\n",
       "  </thead>\n",
       "  <tbody>\n",
       "    <tr>\n",
       "      <th>0</th>\n",
       "      <td>CP:C6FD3</td>\n",
       "      <td>StandardType2</td>\n",
       "      <td>OOS</td>\n",
       "      <td>-6.933468,52.836332</td>\n",
       "      <td>Public Car Park, Kennedy Street, Carlow Town, ...</td>\n",
       "      <td>-6.933468</td>\n",
       "      <td>52.836332</td>\n",
       "      <td>2018-01-01 00:01:00</td>\n",
       "    </tr>\n",
       "    <tr>\n",
       "      <th>1</th>\n",
       "      <td>CP:C7WLM</td>\n",
       "      <td>StandardType2</td>\n",
       "      <td>OOC</td>\n",
       "      <td>-6.972487,53.917571</td>\n",
       "      <td>Main Street, Bailieborough, County Cavan</td>\n",
       "      <td>-6.972487</td>\n",
       "      <td>53.917571</td>\n",
       "      <td>2018-01-01 00:01:00</td>\n",
       "    </tr>\n",
       "    <tr>\n",
       "      <th>2</th>\n",
       "      <td>CP:C4FVM</td>\n",
       "      <td>StandardType2</td>\n",
       "      <td>OOS</td>\n",
       "      <td>-9.346292,52.928911</td>\n",
       "      <td>Public Car Park, N67/Milltown Malbay Road, Lah...</td>\n",
       "      <td>-9.346292</td>\n",
       "      <td>52.928911</td>\n",
       "      <td>2018-01-01 00:01:00</td>\n",
       "    </tr>\n",
       "    <tr>\n",
       "      <th>3</th>\n",
       "      <td>CP:C6Q3G</td>\n",
       "      <td>StandardType2</td>\n",
       "      <td>OOC</td>\n",
       "      <td>-8.889570,51.620831</td>\n",
       "      <td>Deasy's Public Car Park, Park Road (N71), Clon...</td>\n",
       "      <td>-8.889570</td>\n",
       "      <td>51.620831</td>\n",
       "      <td>2018-01-01 00:01:00</td>\n",
       "    </tr>\n",
       "    <tr>\n",
       "      <th>4</th>\n",
       "      <td>CP:C6J53</td>\n",
       "      <td>StandardType2</td>\n",
       "      <td>Part</td>\n",
       "      <td>-8.473326,51.896298</td>\n",
       "      <td>51 South Mall, Cork City, County Cork</td>\n",
       "      <td>-8.473326</td>\n",
       "      <td>51.896298</td>\n",
       "      <td>2018-01-01 00:01:00</td>\n",
       "    </tr>\n",
       "  </tbody>\n",
       "</table>\n",
       "</div>"
      ],
      "text/plain": [
       "  ChargePointID ChargePointType Status   Latitude_Longitude  \\\n",
       "0      CP:C6FD3   StandardType2    OOS  -6.933468,52.836332   \n",
       "1      CP:C7WLM   StandardType2    OOC  -6.972487,53.917571   \n",
       "2      CP:C4FVM   StandardType2    OOS  -9.346292,52.928911   \n",
       "3      CP:C6Q3G   StandardType2    OOC  -8.889570,51.620831   \n",
       "4      CP:C6J53   StandardType2   Part  -8.473326,51.896298   \n",
       "\n",
       "                                             Address  Latitude  Longitude  \\\n",
       "0  Public Car Park, Kennedy Street, Carlow Town, ... -6.933468  52.836332   \n",
       "1           Main Street, Bailieborough, County Cavan -6.972487  53.917571   \n",
       "2  Public Car Park, N67/Milltown Malbay Road, Lah... -9.346292  52.928911   \n",
       "3  Deasy's Public Car Park, Park Road (N71), Clon... -8.889570  51.620831   \n",
       "4              51 South Mall, Cork City, County Cork -8.473326  51.896298   \n",
       "\n",
       "    FormattedDatetime  \n",
       "0 2018-01-01 00:01:00  \n",
       "1 2018-01-01 00:01:00  \n",
       "2 2018-01-01 00:01:00  \n",
       "3 2018-01-01 00:01:00  \n",
       "4 2018-01-01 00:01:00  "
      ]
     },
     "metadata": {},
     "output_type": "display_data"
    },
    {
     "data": {
      "text/markdown": [
       "<b>describe():</b>"
      ],
      "text/plain": [
       "<IPython.core.display.Markdown object>"
      ]
     },
     "metadata": {},
     "output_type": "display_data"
    },
    {
     "data": {
      "text/html": [
       "<div>\n",
       "<style>\n",
       "    .dataframe thead tr:only-child th {\n",
       "        text-align: right;\n",
       "    }\n",
       "\n",
       "    .dataframe thead th {\n",
       "        text-align: left;\n",
       "    }\n",
       "\n",
       "    .dataframe tbody tr th {\n",
       "        vertical-align: top;\n",
       "    }\n",
       "</style>\n",
       "<table border=\"1\" class=\"dataframe\">\n",
       "  <thead>\n",
       "    <tr style=\"text-align: right;\">\n",
       "      <th></th>\n",
       "      <th>Latitude</th>\n",
       "      <th>Longitude</th>\n",
       "    </tr>\n",
       "  </thead>\n",
       "  <tbody>\n",
       "    <tr>\n",
       "      <th>count</th>\n",
       "      <td>1.449257e+06</td>\n",
       "      <td>1.449257e+06</td>\n",
       "    </tr>\n",
       "    <tr>\n",
       "      <th>mean</th>\n",
       "      <td>-7.124657e+00</td>\n",
       "      <td>5.346792e+01</td>\n",
       "    </tr>\n",
       "    <tr>\n",
       "      <th>std</th>\n",
       "      <td>1.109551e+00</td>\n",
       "      <td>9.012838e-01</td>\n",
       "    </tr>\n",
       "    <tr>\n",
       "      <th>min</th>\n",
       "      <td>-1.027879e+01</td>\n",
       "      <td>5.155391e+01</td>\n",
       "    </tr>\n",
       "    <tr>\n",
       "      <th>25%</th>\n",
       "      <td>-7.926661e+00</td>\n",
       "      <td>5.286456e+01</td>\n",
       "    </tr>\n",
       "    <tr>\n",
       "      <th>50%</th>\n",
       "      <td>-6.665187e+00</td>\n",
       "      <td>5.335386e+01</td>\n",
       "    </tr>\n",
       "    <tr>\n",
       "      <th>75%</th>\n",
       "      <td>-6.232894e+00</td>\n",
       "      <td>5.432521e+01</td>\n",
       "    </tr>\n",
       "    <tr>\n",
       "      <th>max</th>\n",
       "      <td>-5.547600e+00</td>\n",
       "      <td>5.525138e+01</td>\n",
       "    </tr>\n",
       "  </tbody>\n",
       "</table>\n",
       "</div>"
      ],
      "text/plain": [
       "           Latitude     Longitude\n",
       "count  1.449257e+06  1.449257e+06\n",
       "mean  -7.124657e+00  5.346792e+01\n",
       "std    1.109551e+00  9.012838e-01\n",
       "min   -1.027879e+01  5.155391e+01\n",
       "25%   -7.926661e+00  5.286456e+01\n",
       "50%   -6.665187e+00  5.335386e+01\n",
       "75%   -6.232894e+00  5.432521e+01\n",
       "max   -5.547600e+00  5.525138e+01"
      ]
     },
     "metadata": {},
     "output_type": "display_data"
    },
    {
     "data": {
      "text/markdown": [
       "<b>info():</b>"
      ],
      "text/plain": [
       "<IPython.core.display.Markdown object>"
      ]
     },
     "metadata": {},
     "output_type": "display_data"
    },
    {
     "name": "stdout",
     "output_type": "stream",
     "text": [
      "<class 'pandas.core.frame.DataFrame'>\n",
      "Int64Index: 1449257 entries, 0 to 1477736\n",
      "Data columns (total 8 columns):\n",
      "ChargePointID         1449257 non-null object\n",
      "ChargePointType       1449257 non-null object\n",
      "Status                1449257 non-null object\n",
      "Latitude_Longitude    1449257 non-null object\n",
      "Address               1449257 non-null object\n",
      "Latitude              1449257 non-null float64\n",
      "Longitude             1449257 non-null float64\n",
      "FormattedDatetime     1449257 non-null datetime64[ns]\n",
      "dtypes: datetime64[ns](1), float64(2), object(5)\n",
      "memory usage: 99.5+ MB\n"
     ]
    },
    {
     "data": {
      "text/plain": [
       "None"
      ]
     },
     "metadata": {},
     "output_type": "display_data"
    },
    {
     "data": {
      "text/markdown": [
       "<b>infer_dtype():</b>"
      ],
      "text/plain": [
       "<IPython.core.display.Markdown object>"
      ]
     },
     "metadata": {},
     "output_type": "display_data"
    },
    {
     "data": {
      "text/plain": [
       "ChargePointID           string\n",
       "ChargePointType         string\n",
       "Status                  string\n",
       "Latitude_Longitude      string\n",
       "Address                 string\n",
       "Latitude              floating\n",
       "Longitude             floating\n",
       "FormattedDatetime     datetime\n",
       "dtype: object"
      ]
     },
     "metadata": {},
     "output_type": "display_data"
    }
   ],
   "source": [
    "report(full_data)"
   ]
  },
  {
   "cell_type": "markdown",
   "metadata": {},
   "source": [
    "## Multivariate Time Series (MTS)"
   ]
  },
  {
   "cell_type": "markdown",
   "metadata": {},
   "source": [
    "A <b>multivariate time series</b> has more than one time-dependent variable just like our dataset. Each variable depends not only on its past values but also has some dependency on other variables. This dependency is used for forecasting future values."
   ]
  },
  {
   "cell_type": "markdown",
   "metadata": {},
   "source": [
    "### to_datetime()"
   ]
  },
  {
   "cell_type": "code",
   "execution_count": 291,
   "metadata": {},
   "outputs": [
    {
     "data": {
      "text/plain": [
       "0    00:01:00\n",
       "1    00:01:00\n",
       "2    00:01:00\n",
       "3    00:01:00\n",
       "4    00:01:00\n",
       "Name: Time, dtype: object"
      ]
     },
     "execution_count": 291,
     "metadata": {},
     "output_type": "execute_result"
    }
   ],
   "source": [
    "full_data['Time'] = pd.to_datetime(full_data.FormattedDatetime, format='%H.%M.%S').dt.time\n",
    "full_data['Time'].head()"
   ]
  },
  {
   "cell_type": "code",
   "execution_count": 292,
   "metadata": {},
   "outputs": [
    {
     "data": {
      "text/html": [
       "<div>\n",
       "<style>\n",
       "    .dataframe thead tr:only-child th {\n",
       "        text-align: right;\n",
       "    }\n",
       "\n",
       "    .dataframe thead th {\n",
       "        text-align: left;\n",
       "    }\n",
       "\n",
       "    .dataframe tbody tr th {\n",
       "        vertical-align: top;\n",
       "    }\n",
       "</style>\n",
       "<table border=\"1\" class=\"dataframe\">\n",
       "  <thead>\n",
       "    <tr style=\"text-align: right;\">\n",
       "      <th></th>\n",
       "      <th>OOC</th>\n",
       "      <th>OOS</th>\n",
       "      <th>Occ</th>\n",
       "      <th>Part</th>\n",
       "    </tr>\n",
       "  </thead>\n",
       "  <tbody>\n",
       "    <tr>\n",
       "      <th>0</th>\n",
       "      <td>0</td>\n",
       "      <td>1</td>\n",
       "      <td>0</td>\n",
       "      <td>0</td>\n",
       "    </tr>\n",
       "    <tr>\n",
       "      <th>1</th>\n",
       "      <td>1</td>\n",
       "      <td>0</td>\n",
       "      <td>0</td>\n",
       "      <td>0</td>\n",
       "    </tr>\n",
       "    <tr>\n",
       "      <th>2</th>\n",
       "      <td>0</td>\n",
       "      <td>1</td>\n",
       "      <td>0</td>\n",
       "      <td>0</td>\n",
       "    </tr>\n",
       "    <tr>\n",
       "      <th>3</th>\n",
       "      <td>1</td>\n",
       "      <td>0</td>\n",
       "      <td>0</td>\n",
       "      <td>0</td>\n",
       "    </tr>\n",
       "    <tr>\n",
       "      <th>4</th>\n",
       "      <td>0</td>\n",
       "      <td>0</td>\n",
       "      <td>0</td>\n",
       "      <td>1</td>\n",
       "    </tr>\n",
       "  </tbody>\n",
       "</table>\n",
       "</div>"
      ],
      "text/plain": [
       "   OOC  OOS  Occ  Part\n",
       "0    0    1    0     0\n",
       "1    1    0    0     0\n",
       "2    0    1    0     0\n",
       "3    1    0    0     0\n",
       "4    0    0    0     1"
      ]
     },
     "execution_count": 292,
     "metadata": {},
     "output_type": "execute_result"
    }
   ],
   "source": [
    "\n",
    "status_dummies = pd.get_dummies(full_data.Status).astype(int)\n",
    "status_dummies.head()"
   ]
  },
  {
   "cell_type": "code",
   "execution_count": 293,
   "metadata": {},
   "outputs": [
    {
     "data": {
      "text/html": [
       "<div>\n",
       "<style>\n",
       "    .dataframe thead tr:only-child th {\n",
       "        text-align: right;\n",
       "    }\n",
       "\n",
       "    .dataframe thead th {\n",
       "        text-align: left;\n",
       "    }\n",
       "\n",
       "    .dataframe tbody tr th {\n",
       "        vertical-align: top;\n",
       "    }\n",
       "</style>\n",
       "<table border=\"1\" class=\"dataframe\">\n",
       "  <thead>\n",
       "    <tr style=\"text-align: right;\">\n",
       "      <th></th>\n",
       "      <th>ChargePointID</th>\n",
       "      <th>ChargePointType</th>\n",
       "      <th>Status</th>\n",
       "      <th>Latitude_Longitude</th>\n",
       "      <th>Address</th>\n",
       "      <th>Latitude</th>\n",
       "      <th>Longitude</th>\n",
       "      <th>FormattedDatetime</th>\n",
       "      <th>Time</th>\n",
       "      <th>OOC</th>\n",
       "      <th>OOS</th>\n",
       "      <th>Occ</th>\n",
       "      <th>Part</th>\n",
       "    </tr>\n",
       "  </thead>\n",
       "  <tbody>\n",
       "    <tr>\n",
       "      <th>0</th>\n",
       "      <td>CP:C6FD3</td>\n",
       "      <td>StandardType2</td>\n",
       "      <td>OOS</td>\n",
       "      <td>-6.933468,52.836332</td>\n",
       "      <td>Public Car Park, Kennedy Street, Carlow Town, ...</td>\n",
       "      <td>-6.933468</td>\n",
       "      <td>52.836332</td>\n",
       "      <td>2018-01-01 00:01:00</td>\n",
       "      <td>00:01:00</td>\n",
       "      <td>0</td>\n",
       "      <td>1</td>\n",
       "      <td>0</td>\n",
       "      <td>0</td>\n",
       "    </tr>\n",
       "    <tr>\n",
       "      <th>1</th>\n",
       "      <td>CP:C7WLM</td>\n",
       "      <td>StandardType2</td>\n",
       "      <td>OOC</td>\n",
       "      <td>-6.972487,53.917571</td>\n",
       "      <td>Main Street, Bailieborough, County Cavan</td>\n",
       "      <td>-6.972487</td>\n",
       "      <td>53.917571</td>\n",
       "      <td>2018-01-01 00:01:00</td>\n",
       "      <td>00:01:00</td>\n",
       "      <td>1</td>\n",
       "      <td>0</td>\n",
       "      <td>0</td>\n",
       "      <td>0</td>\n",
       "    </tr>\n",
       "    <tr>\n",
       "      <th>2</th>\n",
       "      <td>CP:C4FVM</td>\n",
       "      <td>StandardType2</td>\n",
       "      <td>OOS</td>\n",
       "      <td>-9.346292,52.928911</td>\n",
       "      <td>Public Car Park, N67/Milltown Malbay Road, Lah...</td>\n",
       "      <td>-9.346292</td>\n",
       "      <td>52.928911</td>\n",
       "      <td>2018-01-01 00:01:00</td>\n",
       "      <td>00:01:00</td>\n",
       "      <td>0</td>\n",
       "      <td>1</td>\n",
       "      <td>0</td>\n",
       "      <td>0</td>\n",
       "    </tr>\n",
       "    <tr>\n",
       "      <th>3</th>\n",
       "      <td>CP:C6Q3G</td>\n",
       "      <td>StandardType2</td>\n",
       "      <td>OOC</td>\n",
       "      <td>-8.889570,51.620831</td>\n",
       "      <td>Deasy's Public Car Park, Park Road (N71), Clon...</td>\n",
       "      <td>-8.889570</td>\n",
       "      <td>51.620831</td>\n",
       "      <td>2018-01-01 00:01:00</td>\n",
       "      <td>00:01:00</td>\n",
       "      <td>1</td>\n",
       "      <td>0</td>\n",
       "      <td>0</td>\n",
       "      <td>0</td>\n",
       "    </tr>\n",
       "    <tr>\n",
       "      <th>4</th>\n",
       "      <td>CP:C6J53</td>\n",
       "      <td>StandardType2</td>\n",
       "      <td>Part</td>\n",
       "      <td>-8.473326,51.896298</td>\n",
       "      <td>51 South Mall, Cork City, County Cork</td>\n",
       "      <td>-8.473326</td>\n",
       "      <td>51.896298</td>\n",
       "      <td>2018-01-01 00:01:00</td>\n",
       "      <td>00:01:00</td>\n",
       "      <td>0</td>\n",
       "      <td>0</td>\n",
       "      <td>0</td>\n",
       "      <td>1</td>\n",
       "    </tr>\n",
       "  </tbody>\n",
       "</table>\n",
       "</div>"
      ],
      "text/plain": [
       "  ChargePointID ChargePointType Status   Latitude_Longitude  \\\n",
       "0      CP:C6FD3   StandardType2    OOS  -6.933468,52.836332   \n",
       "1      CP:C7WLM   StandardType2    OOC  -6.972487,53.917571   \n",
       "2      CP:C4FVM   StandardType2    OOS  -9.346292,52.928911   \n",
       "3      CP:C6Q3G   StandardType2    OOC  -8.889570,51.620831   \n",
       "4      CP:C6J53   StandardType2   Part  -8.473326,51.896298   \n",
       "\n",
       "                                             Address  Latitude  Longitude  \\\n",
       "0  Public Car Park, Kennedy Street, Carlow Town, ... -6.933468  52.836332   \n",
       "1           Main Street, Bailieborough, County Cavan -6.972487  53.917571   \n",
       "2  Public Car Park, N67/Milltown Malbay Road, Lah... -9.346292  52.928911   \n",
       "3  Deasy's Public Car Park, Park Road (N71), Clon... -8.889570  51.620831   \n",
       "4              51 South Mall, Cork City, County Cork -8.473326  51.896298   \n",
       "\n",
       "    FormattedDatetime      Time  OOC  OOS  Occ  Part  \n",
       "0 2018-01-01 00:01:00  00:01:00    0    1    0     0  \n",
       "1 2018-01-01 00:01:00  00:01:00    1    0    0     0  \n",
       "2 2018-01-01 00:01:00  00:01:00    0    1    0     0  \n",
       "3 2018-01-01 00:01:00  00:01:00    1    0    0     0  \n",
       "4 2018-01-01 00:01:00  00:01:00    0    0    0     1  "
      ]
     },
     "execution_count": 293,
     "metadata": {},
     "output_type": "execute_result"
    }
   ],
   "source": [
    "#let's reappend the status features to the original dataset\n",
    "full_data = pd.concat(\n",
    "    [full_data,status_dummies],\n",
    "    axis=1) #remember that concatenating columns means axis=1!\n",
    "#full_data.drop('Status',inplace=True,axis=1) --> this would drop the Status column, but we will want that\n",
    "full_data.head()"
   ]
  },
  {
   "cell_type": "code",
   "execution_count": 294,
   "metadata": {
    "collapsed": true
   },
   "outputs": [],
   "source": [
    "\n",
    "CS1=full_data.loc[full_data['ChargePointID'] == 'CP:C8PJ7'] \n",
    "\n",
    "\n"
   ]
  },
  {
   "cell_type": "code",
   "execution_count": 295,
   "metadata": {},
   "outputs": [
    {
     "data": {
      "text/plain": [
       "Timestamp('2018-01-01 15:20:00')"
      ]
     },
     "execution_count": 295,
     "metadata": {},
     "output_type": "execute_result"
    }
   ],
   "source": [
    "\n",
    "CS1.FormattedDatetime.min()\n"
   ]
  },
  {
   "cell_type": "code",
   "execution_count": 296,
   "metadata": {},
   "outputs": [
    {
     "data": {
      "text/plain": [
       "Timestamp('2018-01-31 19:52:00')"
      ]
     },
     "execution_count": 296,
     "metadata": {},
     "output_type": "execute_result"
    }
   ],
   "source": [
    "\n",
    "CS1.FormattedDatetime.max()"
   ]
  },
  {
   "cell_type": "code",
   "execution_count": 297,
   "metadata": {
    "collapsed": true
   },
   "outputs": [],
   "source": [
    "\n",
    "CS1AVAIL = []\n",
    "current = []\n",
    "start = '2018-01-01 15:20:00'\n",
    "time = pd.to_datetime(start)\n",
    "#count = 0\n",
    "while time <= pd.to_datetime('2018-1-31 19:52:00'):\n",
    "    current.append('CP:C8PJ7') #ChargePointID\n",
    "    current.append('StandardType2') #ChargePointType\n",
    "    current.append('A') #Status = available\n",
    "    current.append('Q-Park Multi-Storey Car Park, Sean McDermott Street, Dublin 1, County Dublin') #Address\n",
    "    current.append(float(-6.258432)) #Latitude\n",
    "    current.append(float(53.352022)) #citude\n",
    "    current.append(pd.to_datetime(time)) #Datetime\n",
    "    current.append(0) #OOC\n",
    "    current.append(0) #OOS\n",
    "    current.append(0) #Occ\n",
    "    current.append(0) #Part\n",
    "    CS1AVAIL.append(current)\n",
    "    current = []\n",
    "    time = pd.to_datetime(time) + pd.Timedelta(minutes=5)\n",
    "   \n",
    " \n",
    " \n",
    " \n"
   ]
  },
  {
   "cell_type": "code",
   "execution_count": 298,
   "metadata": {
    "collapsed": true
   },
   "outputs": [],
   "source": [
    "\n",
    "\n",
    "#turn list into df\n",
    "CS1AVAIL = pd.DataFrame(CS1AVAIL, columns=['ChargePointID',\n",
    "                                                         'ChargePointType',\n",
    "                                                         'Status',\n",
    "                                                         'Address',\n",
    "                                                         'Latitude',\n",
    "                                                         'Longitude',\n",
    "                                                         'FormattedDatetime',\n",
    "                                                         'OOC',\n",
    "                                                         'OOS',\n",
    "                                                         'Occ',\n",
    "                                                         'Part'])\n",
    "\n",
    " \n",
    "\n",
    "\n",
    " "
   ]
  },
  {
   "cell_type": "code",
   "execution_count": 299,
   "metadata": {
    "collapsed": true
   },
   "outputs": [],
   "source": [
    "\n",
    "\n",
    "\n",
    "\"\"\"I was getting an error when trying to update cliftonAVAIL with clifton,\n",
    "so I reset the index of clifton, which fixed the problem\"\"\"\n",
    "CS1 = CS1.reset_index()  \n",
    "CS1AVAIL.update(CS1) "
   ]
  },
  {
   "cell_type": "code",
   "execution_count": 300,
   "metadata": {},
   "outputs": [
    {
     "name": "stdout",
     "output_type": "stream",
     "text": [
      "CS1AVAIL starts:  2018-01-01 15:20:00\n",
      "CS1AVAIL ends:  2018-01-31 19:52:00\n"
     ]
    }
   ],
   "source": [
    "print(\"CS1AVAIL starts: \", CS1AVAIL.FormattedDatetime.min())\n",
    "print(\"CS1AVAIL ends: \", CS1AVAIL.FormattedDatetime.max())\n",
    "\n",
    " \n"
   ]
  },
  {
   "cell_type": "code",
   "execution_count": 301,
   "metadata": {},
   "outputs": [
    {
     "data": {
      "text/html": [
       "<div>\n",
       "<style>\n",
       "    .dataframe thead tr:only-child th {\n",
       "        text-align: right;\n",
       "    }\n",
       "\n",
       "    .dataframe thead th {\n",
       "        text-align: left;\n",
       "    }\n",
       "\n",
       "    .dataframe tbody tr th {\n",
       "        vertical-align: top;\n",
       "    }\n",
       "</style>\n",
       "<table border=\"1\" class=\"dataframe\">\n",
       "  <thead>\n",
       "    <tr style=\"text-align: right;\">\n",
       "      <th></th>\n",
       "      <th>ChargePointID</th>\n",
       "      <th>ChargePointType</th>\n",
       "      <th>Status</th>\n",
       "      <th>Address</th>\n",
       "      <th>Latitude</th>\n",
       "      <th>Longitude</th>\n",
       "      <th>FormattedDatetime</th>\n",
       "      <th>OOC</th>\n",
       "      <th>OOS</th>\n",
       "      <th>Occ</th>\n",
       "      <th>Part</th>\n",
       "      <th>Status_Number</th>\n",
       "    </tr>\n",
       "  </thead>\n",
       "  <tbody>\n",
       "    <tr>\n",
       "      <th>0</th>\n",
       "      <td>CP:C8PJ7</td>\n",
       "      <td>StandardType2</td>\n",
       "      <td>Part</td>\n",
       "      <td>Q-Park Multi-Storey Car Park, Sean McDermott S...</td>\n",
       "      <td>-6.258432</td>\n",
       "      <td>53.352022</td>\n",
       "      <td>2018-01-01 15:20:00</td>\n",
       "      <td>0.0</td>\n",
       "      <td>0.0</td>\n",
       "      <td>0.0</td>\n",
       "      <td>1.0</td>\n",
       "      <td>1</td>\n",
       "    </tr>\n",
       "    <tr>\n",
       "      <th>1</th>\n",
       "      <td>CP:C8PJ7</td>\n",
       "      <td>StandardType2</td>\n",
       "      <td>Part</td>\n",
       "      <td>Q-Park Multi-Storey Car Park, Sean McDermott S...</td>\n",
       "      <td>-6.258432</td>\n",
       "      <td>53.352022</td>\n",
       "      <td>2018-01-01 15:25:00</td>\n",
       "      <td>0.0</td>\n",
       "      <td>0.0</td>\n",
       "      <td>0.0</td>\n",
       "      <td>1.0</td>\n",
       "      <td>1</td>\n",
       "    </tr>\n",
       "    <tr>\n",
       "      <th>2</th>\n",
       "      <td>CP:C8PJ7</td>\n",
       "      <td>StandardType2</td>\n",
       "      <td>Part</td>\n",
       "      <td>Q-Park Multi-Storey Car Park, Sean McDermott S...</td>\n",
       "      <td>-6.258432</td>\n",
       "      <td>53.352022</td>\n",
       "      <td>2018-01-01 15:30:00</td>\n",
       "      <td>0.0</td>\n",
       "      <td>0.0</td>\n",
       "      <td>0.0</td>\n",
       "      <td>1.0</td>\n",
       "      <td>1</td>\n",
       "    </tr>\n",
       "    <tr>\n",
       "      <th>3</th>\n",
       "      <td>CP:C8PJ7</td>\n",
       "      <td>StandardType2</td>\n",
       "      <td>Part</td>\n",
       "      <td>Q-Park Multi-Storey Car Park, Sean McDermott S...</td>\n",
       "      <td>-6.258432</td>\n",
       "      <td>53.352022</td>\n",
       "      <td>2018-01-01 15:20:00</td>\n",
       "      <td>0.0</td>\n",
       "      <td>0.0</td>\n",
       "      <td>0.0</td>\n",
       "      <td>1.0</td>\n",
       "      <td>1</td>\n",
       "    </tr>\n",
       "    <tr>\n",
       "      <th>4</th>\n",
       "      <td>CP:C8PJ7</td>\n",
       "      <td>StandardType2</td>\n",
       "      <td>Part</td>\n",
       "      <td>Q-Park Multi-Storey Car Park, Sean McDermott S...</td>\n",
       "      <td>-6.258432</td>\n",
       "      <td>53.352022</td>\n",
       "      <td>2018-01-01 15:35:00</td>\n",
       "      <td>0.0</td>\n",
       "      <td>0.0</td>\n",
       "      <td>0.0</td>\n",
       "      <td>1.0</td>\n",
       "      <td>1</td>\n",
       "    </tr>\n",
       "  </tbody>\n",
       "</table>\n",
       "</div>"
      ],
      "text/plain": [
       "  ChargePointID ChargePointType Status  \\\n",
       "0      CP:C8PJ7   StandardType2   Part   \n",
       "1      CP:C8PJ7   StandardType2   Part   \n",
       "2      CP:C8PJ7   StandardType2   Part   \n",
       "3      CP:C8PJ7   StandardType2   Part   \n",
       "4      CP:C8PJ7   StandardType2   Part   \n",
       "\n",
       "                                             Address  Latitude  Longitude  \\\n",
       "0  Q-Park Multi-Storey Car Park, Sean McDermott S... -6.258432  53.352022   \n",
       "1  Q-Park Multi-Storey Car Park, Sean McDermott S... -6.258432  53.352022   \n",
       "2  Q-Park Multi-Storey Car Park, Sean McDermott S... -6.258432  53.352022   \n",
       "3  Q-Park Multi-Storey Car Park, Sean McDermott S... -6.258432  53.352022   \n",
       "4  Q-Park Multi-Storey Car Park, Sean McDermott S... -6.258432  53.352022   \n",
       "\n",
       "    FormattedDatetime  OOC  OOS  Occ  Part  Status_Number  \n",
       "0 2018-01-01 15:20:00  0.0  0.0  0.0   1.0              1  \n",
       "1 2018-01-01 15:25:00  0.0  0.0  0.0   1.0              1  \n",
       "2 2018-01-01 15:30:00  0.0  0.0  0.0   1.0              1  \n",
       "3 2018-01-01 15:20:00  0.0  0.0  0.0   1.0              1  \n",
       "4 2018-01-01 15:35:00  0.0  0.0  0.0   1.0              1  "
      ]
     },
     "execution_count": 301,
     "metadata": {},
     "output_type": "execute_result"
    }
   ],
   "source": [
    "\n",
    "CS1AVAIL['Status_Number'] = (CS1AVAIL.Status != 'A').astype(int)\n",
    "  \n",
    "CS1AVAIL.head()\n"
   ]
  },
  {
   "cell_type": "code",
   "execution_count": 302,
   "metadata": {},
   "outputs": [
    {
     "data": {
      "text/html": [
       "<div>\n",
       "<style>\n",
       "    .dataframe thead tr:only-child th {\n",
       "        text-align: right;\n",
       "    }\n",
       "\n",
       "    .dataframe thead th {\n",
       "        text-align: left;\n",
       "    }\n",
       "\n",
       "    .dataframe tbody tr th {\n",
       "        vertical-align: top;\n",
       "    }\n",
       "</style>\n",
       "<table border=\"1\" class=\"dataframe\">\n",
       "  <thead>\n",
       "    <tr style=\"text-align: right;\">\n",
       "      <th></th>\n",
       "      <th>Address</th>\n",
       "      <th>FormattedDatetime</th>\n",
       "      <th>OOC</th>\n",
       "      <th>OOS</th>\n",
       "      <th>Occ</th>\n",
       "      <th>Part</th>\n",
       "      <th>Status_Number</th>\n",
       "    </tr>\n",
       "  </thead>\n",
       "  <tbody>\n",
       "    <tr>\n",
       "      <th>0</th>\n",
       "      <td>Q-Park Multi-Storey Car Park, Sean McDermott S...</td>\n",
       "      <td>2018-01-01 15:20:00</td>\n",
       "      <td>0.0</td>\n",
       "      <td>0.0</td>\n",
       "      <td>0.0</td>\n",
       "      <td>1.0</td>\n",
       "      <td>1</td>\n",
       "    </tr>\n",
       "    <tr>\n",
       "      <th>1</th>\n",
       "      <td>Q-Park Multi-Storey Car Park, Sean McDermott S...</td>\n",
       "      <td>2018-01-01 15:25:00</td>\n",
       "      <td>0.0</td>\n",
       "      <td>0.0</td>\n",
       "      <td>0.0</td>\n",
       "      <td>1.0</td>\n",
       "      <td>1</td>\n",
       "    </tr>\n",
       "    <tr>\n",
       "      <th>2</th>\n",
       "      <td>Q-Park Multi-Storey Car Park, Sean McDermott S...</td>\n",
       "      <td>2018-01-01 15:30:00</td>\n",
       "      <td>0.0</td>\n",
       "      <td>0.0</td>\n",
       "      <td>0.0</td>\n",
       "      <td>1.0</td>\n",
       "      <td>1</td>\n",
       "    </tr>\n",
       "    <tr>\n",
       "      <th>3</th>\n",
       "      <td>Q-Park Multi-Storey Car Park, Sean McDermott S...</td>\n",
       "      <td>2018-01-01 15:20:00</td>\n",
       "      <td>0.0</td>\n",
       "      <td>0.0</td>\n",
       "      <td>0.0</td>\n",
       "      <td>1.0</td>\n",
       "      <td>1</td>\n",
       "    </tr>\n",
       "    <tr>\n",
       "      <th>4</th>\n",
       "      <td>Q-Park Multi-Storey Car Park, Sean McDermott S...</td>\n",
       "      <td>2018-01-01 15:35:00</td>\n",
       "      <td>0.0</td>\n",
       "      <td>0.0</td>\n",
       "      <td>0.0</td>\n",
       "      <td>1.0</td>\n",
       "      <td>1</td>\n",
       "    </tr>\n",
       "  </tbody>\n",
       "</table>\n",
       "</div>"
      ],
      "text/plain": [
       "                                             Address   FormattedDatetime  OOC  \\\n",
       "0  Q-Park Multi-Storey Car Park, Sean McDermott S... 2018-01-01 15:20:00  0.0   \n",
       "1  Q-Park Multi-Storey Car Park, Sean McDermott S... 2018-01-01 15:25:00  0.0   \n",
       "2  Q-Park Multi-Storey Car Park, Sean McDermott S... 2018-01-01 15:30:00  0.0   \n",
       "3  Q-Park Multi-Storey Car Park, Sean McDermott S... 2018-01-01 15:20:00  0.0   \n",
       "4  Q-Park Multi-Storey Car Park, Sean McDermott S... 2018-01-01 15:35:00  0.0   \n",
       "\n",
       "   OOS  Occ  Part  Status_Number  \n",
       "0  0.0  0.0   1.0              1  \n",
       "1  0.0  0.0   1.0              1  \n",
       "2  0.0  0.0   1.0              1  \n",
       "3  0.0  0.0   1.0              1  \n",
       "4  0.0  0.0   1.0              1  "
      ]
     },
     "execution_count": 302,
     "metadata": {},
     "output_type": "execute_result"
    }
   ],
   "source": [
    "\n",
    "CS1AVAIL.drop('ChargePointID',inplace=True,axis=1) \n",
    "CS1AVAIL.drop('ChargePointType',inplace=True,axis=1) \n",
    "CS1AVAIL.drop('Status',inplace=True,axis=1) \n",
    "CS1AVAIL.drop('Latitude',inplace=True,axis=1) \n",
    "CS1AVAIL.drop('Longitude',inplace=True,axis=1)  \n",
    "CS1AVAIL.head()"
   ]
  },
  {
   "cell_type": "code",
   "execution_count": 303,
   "metadata": {},
   "outputs": [
    {
     "data": {
      "text/html": [
       "<div>\n",
       "<style>\n",
       "    .dataframe thead tr:only-child th {\n",
       "        text-align: right;\n",
       "    }\n",
       "\n",
       "    .dataframe thead th {\n",
       "        text-align: left;\n",
       "    }\n",
       "\n",
       "    .dataframe tbody tr th {\n",
       "        vertical-align: top;\n",
       "    }\n",
       "</style>\n",
       "<table border=\"1\" class=\"dataframe\">\n",
       "  <thead>\n",
       "    <tr style=\"text-align: right;\">\n",
       "      <th></th>\n",
       "      <th>Address</th>\n",
       "      <th>FormattedDatetime</th>\n",
       "      <th>OOC</th>\n",
       "      <th>OOS</th>\n",
       "      <th>Occ</th>\n",
       "      <th>Part</th>\n",
       "      <th>Status_Number</th>\n",
       "    </tr>\n",
       "  </thead>\n",
       "  <tbody>\n",
       "    <tr>\n",
       "      <th>0</th>\n",
       "      <td>Q-Park Multi-Storey Car Park, Sean McDermott S...</td>\n",
       "      <td>2018-01-01 15:20:00</td>\n",
       "      <td>0.0</td>\n",
       "      <td>0.0</td>\n",
       "      <td>0.0</td>\n",
       "      <td>1.0</td>\n",
       "      <td>1</td>\n",
       "    </tr>\n",
       "    <tr>\n",
       "      <th>1</th>\n",
       "      <td>Q-Park Multi-Storey Car Park, Sean McDermott S...</td>\n",
       "      <td>2018-01-01 15:25:00</td>\n",
       "      <td>0.0</td>\n",
       "      <td>0.0</td>\n",
       "      <td>0.0</td>\n",
       "      <td>1.0</td>\n",
       "      <td>1</td>\n",
       "    </tr>\n",
       "    <tr>\n",
       "      <th>2</th>\n",
       "      <td>Q-Park Multi-Storey Car Park, Sean McDermott S...</td>\n",
       "      <td>2018-01-01 15:30:00</td>\n",
       "      <td>0.0</td>\n",
       "      <td>0.0</td>\n",
       "      <td>0.0</td>\n",
       "      <td>1.0</td>\n",
       "      <td>1</td>\n",
       "    </tr>\n",
       "    <tr>\n",
       "      <th>3</th>\n",
       "      <td>Q-Park Multi-Storey Car Park, Sean McDermott S...</td>\n",
       "      <td>2018-01-01 15:20:00</td>\n",
       "      <td>0.0</td>\n",
       "      <td>0.0</td>\n",
       "      <td>0.0</td>\n",
       "      <td>1.0</td>\n",
       "      <td>1</td>\n",
       "    </tr>\n",
       "    <tr>\n",
       "      <th>4</th>\n",
       "      <td>Q-Park Multi-Storey Car Park, Sean McDermott S...</td>\n",
       "      <td>2018-01-01 15:35:00</td>\n",
       "      <td>0.0</td>\n",
       "      <td>0.0</td>\n",
       "      <td>0.0</td>\n",
       "      <td>1.0</td>\n",
       "      <td>1</td>\n",
       "    </tr>\n",
       "  </tbody>\n",
       "</table>\n",
       "</div>"
      ],
      "text/plain": [
       "                                             Address   FormattedDatetime  OOC  \\\n",
       "0  Q-Park Multi-Storey Car Park, Sean McDermott S... 2018-01-01 15:20:00  0.0   \n",
       "1  Q-Park Multi-Storey Car Park, Sean McDermott S... 2018-01-01 15:25:00  0.0   \n",
       "2  Q-Park Multi-Storey Car Park, Sean McDermott S... 2018-01-01 15:30:00  0.0   \n",
       "3  Q-Park Multi-Storey Car Park, Sean McDermott S... 2018-01-01 15:20:00  0.0   \n",
       "4  Q-Park Multi-Storey Car Park, Sean McDermott S... 2018-01-01 15:35:00  0.0   \n",
       "\n",
       "   OOS  Occ  Part  Status_Number  \n",
       "0  0.0  0.0   1.0              1  \n",
       "1  0.0  0.0   1.0              1  \n",
       "2  0.0  0.0   1.0              1  \n",
       "3  0.0  0.0   1.0              1  \n",
       "4  0.0  0.0   1.0              1  "
      ]
     },
     "execution_count": 303,
     "metadata": {},
     "output_type": "execute_result"
    }
   ],
   "source": [
    "CS1AVAIL.head()"
   ]
  },
  {
   "cell_type": "code",
   "execution_count": 304,
   "metadata": {
    "collapsed": true
   },
   "outputs": [],
   "source": [
    "CS1AVAIL.drop('Address',inplace=True,axis=1) \n"
   ]
  },
  {
   "cell_type": "code",
   "execution_count": 321,
   "metadata": {},
   "outputs": [
    {
     "data": {
      "text/html": [
       "<div>\n",
       "<style>\n",
       "    .dataframe thead tr:only-child th {\n",
       "        text-align: right;\n",
       "    }\n",
       "\n",
       "    .dataframe thead th {\n",
       "        text-align: left;\n",
       "    }\n",
       "\n",
       "    .dataframe tbody tr th {\n",
       "        vertical-align: top;\n",
       "    }\n",
       "</style>\n",
       "<table border=\"1\" class=\"dataframe\">\n",
       "  <thead>\n",
       "    <tr style=\"text-align: right;\">\n",
       "      <th></th>\n",
       "      <th>OOC</th>\n",
       "      <th>OOS</th>\n",
       "      <th>Occ</th>\n",
       "      <th>Part</th>\n",
       "      <th>Status_Number</th>\n",
       "    </tr>\n",
       "    <tr>\n",
       "      <th>FormattedDatetime</th>\n",
       "      <th></th>\n",
       "      <th></th>\n",
       "      <th></th>\n",
       "      <th></th>\n",
       "      <th></th>\n",
       "    </tr>\n",
       "  </thead>\n",
       "  <tbody>\n",
       "    <tr>\n",
       "      <th>2018-01-01 15:20:00</th>\n",
       "      <td>0.0</td>\n",
       "      <td>0.0</td>\n",
       "      <td>0.0</td>\n",
       "      <td>1.0</td>\n",
       "      <td>1</td>\n",
       "    </tr>\n",
       "    <tr>\n",
       "      <th>2018-01-01 15:25:00</th>\n",
       "      <td>0.0</td>\n",
       "      <td>0.0</td>\n",
       "      <td>0.0</td>\n",
       "      <td>1.0</td>\n",
       "      <td>1</td>\n",
       "    </tr>\n",
       "    <tr>\n",
       "      <th>2018-01-01 15:30:00</th>\n",
       "      <td>0.0</td>\n",
       "      <td>0.0</td>\n",
       "      <td>0.0</td>\n",
       "      <td>1.0</td>\n",
       "      <td>1</td>\n",
       "    </tr>\n",
       "    <tr>\n",
       "      <th>2018-01-01 15:20:00</th>\n",
       "      <td>0.0</td>\n",
       "      <td>0.0</td>\n",
       "      <td>0.0</td>\n",
       "      <td>1.0</td>\n",
       "      <td>1</td>\n",
       "    </tr>\n",
       "    <tr>\n",
       "      <th>2018-01-01 15:35:00</th>\n",
       "      <td>0.0</td>\n",
       "      <td>0.0</td>\n",
       "      <td>0.0</td>\n",
       "      <td>1.0</td>\n",
       "      <td>1</td>\n",
       "    </tr>\n",
       "  </tbody>\n",
       "</table>\n",
       "</div>"
      ],
      "text/plain": [
       "                     OOC  OOS  Occ  Part  Status_Number\n",
       "FormattedDatetime                                      \n",
       "2018-01-01 15:20:00  0.0  0.0  0.0   1.0              1\n",
       "2018-01-01 15:25:00  0.0  0.0  0.0   1.0              1\n",
       "2018-01-01 15:30:00  0.0  0.0  0.0   1.0              1\n",
       "2018-01-01 15:20:00  0.0  0.0  0.0   1.0              1\n",
       "2018-01-01 15:35:00  0.0  0.0  0.0   1.0              1"
      ]
     },
     "execution_count": 321,
     "metadata": {},
     "output_type": "execute_result"
    }
   ],
   "source": [
    "\n",
    "CS1AVAIL.head()"
   ]
  },
  {
   "cell_type": "code",
   "execution_count": 324,
   "metadata": {
    "collapsed": true
   },
   "outputs": [],
   "source": [
    "new_data = CS1AVAIL.dropna(axis = 0, how ='any')  "
   ]
  },
  {
   "cell_type": "code",
   "execution_count": 325,
   "metadata": {},
   "outputs": [
    {
     "ename": "ValueError",
     "evalue": "labels ['Status_Number'] not contained in axis",
     "output_type": "error",
     "traceback": [
      "\u001b[1;31m---------------------------------------------------------------------------\u001b[0m",
      "\u001b[1;31mValueError\u001b[0m                                Traceback (most recent call last)",
      "\u001b[1;32m<ipython-input-325-edb117b5367d>\u001b[0m in \u001b[0;36m<module>\u001b[1;34m()\u001b[0m\n\u001b[1;32m----> 1\u001b[1;33m \u001b[0mCS1AVAIL\u001b[0m\u001b[1;33m.\u001b[0m\u001b[0mdrop\u001b[0m\u001b[1;33m(\u001b[0m\u001b[1;34m'Status_Number'\u001b[0m\u001b[1;33m,\u001b[0m\u001b[0minplace\u001b[0m\u001b[1;33m=\u001b[0m\u001b[1;32mTrue\u001b[0m\u001b[1;33m,\u001b[0m\u001b[0maxis\u001b[0m\u001b[1;33m=\u001b[0m\u001b[1;36m1\u001b[0m\u001b[1;33m)\u001b[0m\u001b[1;33m\u001b[0m\u001b[0m\n\u001b[0m\u001b[0;32m      2\u001b[0m \u001b[1;33m\u001b[0m\u001b[0m\n\u001b[0;32m      3\u001b[0m \u001b[1;33m\u001b[0m\u001b[0m\n\u001b[0;32m      4\u001b[0m \u001b[1;33m\u001b[0m\u001b[0m\n\u001b[0;32m      5\u001b[0m \u001b[1;33m\u001b[0m\u001b[0m\n",
      "\u001b[1;32mC:\\Program Files (x86)\\Microsoft Visual Studio\\Shared\\Anaconda3_64\\lib\\site-packages\\pandas\\core\\generic.py\u001b[0m in \u001b[0;36mdrop\u001b[1;34m(self, labels, axis, level, inplace, errors)\u001b[0m\n\u001b[0;32m   2159\u001b[0m                 \u001b[0mnew_axis\u001b[0m \u001b[1;33m=\u001b[0m \u001b[0maxis\u001b[0m\u001b[1;33m.\u001b[0m\u001b[0mdrop\u001b[0m\u001b[1;33m(\u001b[0m\u001b[0mlabels\u001b[0m\u001b[1;33m,\u001b[0m \u001b[0mlevel\u001b[0m\u001b[1;33m=\u001b[0m\u001b[0mlevel\u001b[0m\u001b[1;33m,\u001b[0m \u001b[0merrors\u001b[0m\u001b[1;33m=\u001b[0m\u001b[0merrors\u001b[0m\u001b[1;33m)\u001b[0m\u001b[1;33m\u001b[0m\u001b[0m\n\u001b[0;32m   2160\u001b[0m             \u001b[1;32melse\u001b[0m\u001b[1;33m:\u001b[0m\u001b[1;33m\u001b[0m\u001b[0m\n\u001b[1;32m-> 2161\u001b[1;33m                 \u001b[0mnew_axis\u001b[0m \u001b[1;33m=\u001b[0m \u001b[0maxis\u001b[0m\u001b[1;33m.\u001b[0m\u001b[0mdrop\u001b[0m\u001b[1;33m(\u001b[0m\u001b[0mlabels\u001b[0m\u001b[1;33m,\u001b[0m \u001b[0merrors\u001b[0m\u001b[1;33m=\u001b[0m\u001b[0merrors\u001b[0m\u001b[1;33m)\u001b[0m\u001b[1;33m\u001b[0m\u001b[0m\n\u001b[0m\u001b[0;32m   2162\u001b[0m             \u001b[0mdropped\u001b[0m \u001b[1;33m=\u001b[0m \u001b[0mself\u001b[0m\u001b[1;33m.\u001b[0m\u001b[0mreindex\u001b[0m\u001b[1;33m(\u001b[0m\u001b[1;33m**\u001b[0m\u001b[1;33m{\u001b[0m\u001b[0maxis_name\u001b[0m\u001b[1;33m:\u001b[0m \u001b[0mnew_axis\u001b[0m\u001b[1;33m}\u001b[0m\u001b[1;33m)\u001b[0m\u001b[1;33m\u001b[0m\u001b[0m\n\u001b[0;32m   2163\u001b[0m             \u001b[1;32mtry\u001b[0m\u001b[1;33m:\u001b[0m\u001b[1;33m\u001b[0m\u001b[0m\n",
      "\u001b[1;32mC:\\Program Files (x86)\\Microsoft Visual Studio\\Shared\\Anaconda3_64\\lib\\site-packages\\pandas\\core\\indexes\\base.py\u001b[0m in \u001b[0;36mdrop\u001b[1;34m(self, labels, errors)\u001b[0m\n\u001b[0;32m   3622\u001b[0m             \u001b[1;32mif\u001b[0m \u001b[0merrors\u001b[0m \u001b[1;33m!=\u001b[0m \u001b[1;34m'ignore'\u001b[0m\u001b[1;33m:\u001b[0m\u001b[1;33m\u001b[0m\u001b[0m\n\u001b[0;32m   3623\u001b[0m                 raise ValueError('labels %s not contained in axis' %\n\u001b[1;32m-> 3624\u001b[1;33m                                  labels[mask])\n\u001b[0m\u001b[0;32m   3625\u001b[0m             \u001b[0mindexer\u001b[0m \u001b[1;33m=\u001b[0m \u001b[0mindexer\u001b[0m\u001b[1;33m[\u001b[0m\u001b[1;33m~\u001b[0m\u001b[0mmask\u001b[0m\u001b[1;33m]\u001b[0m\u001b[1;33m\u001b[0m\u001b[0m\n\u001b[0;32m   3626\u001b[0m         \u001b[1;32mreturn\u001b[0m \u001b[0mself\u001b[0m\u001b[1;33m.\u001b[0m\u001b[0mdelete\u001b[0m\u001b[1;33m(\u001b[0m\u001b[0mindexer\u001b[0m\u001b[1;33m)\u001b[0m\u001b[1;33m\u001b[0m\u001b[0m\n",
      "\u001b[1;31mValueError\u001b[0m: labels ['Status_Number'] not contained in axis"
     ]
    }
   ],
   "source": [
    "CS1AVAIL.drop('Status_Number',inplace=True,axis=1)  \n",
    "\n",
    "\n",
    "\n",
    " "
   ]
  },
  {
   "cell_type": "code",
   "execution_count": 326,
   "metadata": {},
   "outputs": [
    {
     "data": {
      "text/plain": [
       "(8695, 4)"
      ]
     },
     "execution_count": 326,
     "metadata": {},
     "output_type": "execute_result"
    }
   ],
   "source": [
    "\n",
    "new_data.shape"
   ]
  },
  {
   "cell_type": "code",
   "execution_count": null,
   "metadata": {
    "collapsed": true
   },
   "outputs": [],
   "source": []
  },
  {
   "cell_type": "code",
   "execution_count": null,
   "metadata": {
    "collapsed": true
   },
   "outputs": [],
   "source": []
  },
  {
   "cell_type": "code",
   "execution_count": 339,
   "metadata": {},
   "outputs": [
    {
     "ename": "KeyError",
     "evalue": "'FormattedDatetime'",
     "output_type": "error",
     "traceback": [
      "\u001b[1;31m---------------------------------------------------------------------------\u001b[0m",
      "\u001b[1;31mKeyError\u001b[0m                                  Traceback (most recent call last)",
      "\u001b[1;32mC:\\Program Files (x86)\\Microsoft Visual Studio\\Shared\\Anaconda3_64\\lib\\site-packages\\pandas\\core\\indexes\\base.py\u001b[0m in \u001b[0;36mget_loc\u001b[1;34m(self, key, method, tolerance)\u001b[0m\n\u001b[0;32m   2441\u001b[0m             \u001b[1;32mtry\u001b[0m\u001b[1;33m:\u001b[0m\u001b[1;33m\u001b[0m\u001b[0m\n\u001b[1;32m-> 2442\u001b[1;33m                 \u001b[1;32mreturn\u001b[0m \u001b[0mself\u001b[0m\u001b[1;33m.\u001b[0m\u001b[0m_engine\u001b[0m\u001b[1;33m.\u001b[0m\u001b[0mget_loc\u001b[0m\u001b[1;33m(\u001b[0m\u001b[0mkey\u001b[0m\u001b[1;33m)\u001b[0m\u001b[1;33m\u001b[0m\u001b[0m\n\u001b[0m\u001b[0;32m   2443\u001b[0m             \u001b[1;32mexcept\u001b[0m \u001b[0mKeyError\u001b[0m\u001b[1;33m:\u001b[0m\u001b[1;33m\u001b[0m\u001b[0m\n",
      "\u001b[1;32mpandas\\_libs\\index.pyx\u001b[0m in \u001b[0;36mpandas._libs.index.IndexEngine.get_loc\u001b[1;34m()\u001b[0m\n",
      "\u001b[1;32mpandas\\_libs\\index.pyx\u001b[0m in \u001b[0;36mpandas._libs.index.IndexEngine.get_loc\u001b[1;34m()\u001b[0m\n",
      "\u001b[1;32mpandas\\_libs\\hashtable_class_helper.pxi\u001b[0m in \u001b[0;36mpandas._libs.hashtable.PyObjectHashTable.get_item\u001b[1;34m()\u001b[0m\n",
      "\u001b[1;32mpandas\\_libs\\hashtable_class_helper.pxi\u001b[0m in \u001b[0;36mpandas._libs.hashtable.PyObjectHashTable.get_item\u001b[1;34m()\u001b[0m\n",
      "\u001b[1;31mKeyError\u001b[0m: 'FormattedDatetime'",
      "\nDuring handling of the above exception, another exception occurred:\n",
      "\u001b[1;31mKeyError\u001b[0m                                  Traceback (most recent call last)",
      "\u001b[1;32m<ipython-input-339-b6a176fb7481>\u001b[0m in \u001b[0;36m<module>\u001b[1;34m()\u001b[0m\n\u001b[0;32m      1\u001b[0m \u001b[1;33m\u001b[0m\u001b[0m\n\u001b[1;32m----> 2\u001b[1;33m \u001b[0mCS1AVAIL\u001b[0m \u001b[1;33m=\u001b[0m \u001b[0mCS1AVAIL\u001b[0m\u001b[1;33m.\u001b[0m\u001b[0mset_index\u001b[0m\u001b[1;33m(\u001b[0m\u001b[1;34m'FormattedDatetime'\u001b[0m\u001b[1;33m)\u001b[0m\u001b[1;33m\u001b[0m\u001b[0m\n\u001b[0m",
      "\u001b[1;32mC:\\Program Files (x86)\\Microsoft Visual Studio\\Shared\\Anaconda3_64\\lib\\site-packages\\pandas\\core\\frame.py\u001b[0m in \u001b[0;36mset_index\u001b[1;34m(self, keys, drop, append, inplace, verify_integrity)\u001b[0m\n\u001b[0;32m   2828\u001b[0m                 \u001b[0mnames\u001b[0m\u001b[1;33m.\u001b[0m\u001b[0mappend\u001b[0m\u001b[1;33m(\u001b[0m\u001b[1;32mNone\u001b[0m\u001b[1;33m)\u001b[0m\u001b[1;33m\u001b[0m\u001b[0m\n\u001b[0;32m   2829\u001b[0m             \u001b[1;32melse\u001b[0m\u001b[1;33m:\u001b[0m\u001b[1;33m\u001b[0m\u001b[0m\n\u001b[1;32m-> 2830\u001b[1;33m                 \u001b[0mlevel\u001b[0m \u001b[1;33m=\u001b[0m \u001b[0mframe\u001b[0m\u001b[1;33m[\u001b[0m\u001b[0mcol\u001b[0m\u001b[1;33m]\u001b[0m\u001b[1;33m.\u001b[0m\u001b[0m_values\u001b[0m\u001b[1;33m\u001b[0m\u001b[0m\n\u001b[0m\u001b[0;32m   2831\u001b[0m                 \u001b[0mnames\u001b[0m\u001b[1;33m.\u001b[0m\u001b[0mappend\u001b[0m\u001b[1;33m(\u001b[0m\u001b[0mcol\u001b[0m\u001b[1;33m)\u001b[0m\u001b[1;33m\u001b[0m\u001b[0m\n\u001b[0;32m   2832\u001b[0m                 \u001b[1;32mif\u001b[0m \u001b[0mdrop\u001b[0m\u001b[1;33m:\u001b[0m\u001b[1;33m\u001b[0m\u001b[0m\n",
      "\u001b[1;32mC:\\Program Files (x86)\\Microsoft Visual Studio\\Shared\\Anaconda3_64\\lib\\site-packages\\pandas\\core\\frame.py\u001b[0m in \u001b[0;36m__getitem__\u001b[1;34m(self, key)\u001b[0m\n\u001b[0;32m   1962\u001b[0m             \u001b[1;32mreturn\u001b[0m \u001b[0mself\u001b[0m\u001b[1;33m.\u001b[0m\u001b[0m_getitem_multilevel\u001b[0m\u001b[1;33m(\u001b[0m\u001b[0mkey\u001b[0m\u001b[1;33m)\u001b[0m\u001b[1;33m\u001b[0m\u001b[0m\n\u001b[0;32m   1963\u001b[0m         \u001b[1;32melse\u001b[0m\u001b[1;33m:\u001b[0m\u001b[1;33m\u001b[0m\u001b[0m\n\u001b[1;32m-> 1964\u001b[1;33m             \u001b[1;32mreturn\u001b[0m \u001b[0mself\u001b[0m\u001b[1;33m.\u001b[0m\u001b[0m_getitem_column\u001b[0m\u001b[1;33m(\u001b[0m\u001b[0mkey\u001b[0m\u001b[1;33m)\u001b[0m\u001b[1;33m\u001b[0m\u001b[0m\n\u001b[0m\u001b[0;32m   1965\u001b[0m \u001b[1;33m\u001b[0m\u001b[0m\n\u001b[0;32m   1966\u001b[0m     \u001b[1;32mdef\u001b[0m \u001b[0m_getitem_column\u001b[0m\u001b[1;33m(\u001b[0m\u001b[0mself\u001b[0m\u001b[1;33m,\u001b[0m \u001b[0mkey\u001b[0m\u001b[1;33m)\u001b[0m\u001b[1;33m:\u001b[0m\u001b[1;33m\u001b[0m\u001b[0m\n",
      "\u001b[1;32mC:\\Program Files (x86)\\Microsoft Visual Studio\\Shared\\Anaconda3_64\\lib\\site-packages\\pandas\\core\\frame.py\u001b[0m in \u001b[0;36m_getitem_column\u001b[1;34m(self, key)\u001b[0m\n\u001b[0;32m   1969\u001b[0m         \u001b[1;31m# get column\u001b[0m\u001b[1;33m\u001b[0m\u001b[1;33m\u001b[0m\u001b[0m\n\u001b[0;32m   1970\u001b[0m         \u001b[1;32mif\u001b[0m \u001b[0mself\u001b[0m\u001b[1;33m.\u001b[0m\u001b[0mcolumns\u001b[0m\u001b[1;33m.\u001b[0m\u001b[0mis_unique\u001b[0m\u001b[1;33m:\u001b[0m\u001b[1;33m\u001b[0m\u001b[0m\n\u001b[1;32m-> 1971\u001b[1;33m             \u001b[1;32mreturn\u001b[0m \u001b[0mself\u001b[0m\u001b[1;33m.\u001b[0m\u001b[0m_get_item_cache\u001b[0m\u001b[1;33m(\u001b[0m\u001b[0mkey\u001b[0m\u001b[1;33m)\u001b[0m\u001b[1;33m\u001b[0m\u001b[0m\n\u001b[0m\u001b[0;32m   1972\u001b[0m \u001b[1;33m\u001b[0m\u001b[0m\n\u001b[0;32m   1973\u001b[0m         \u001b[1;31m# duplicate columns & possible reduce dimensionality\u001b[0m\u001b[1;33m\u001b[0m\u001b[1;33m\u001b[0m\u001b[0m\n",
      "\u001b[1;32mC:\\Program Files (x86)\\Microsoft Visual Studio\\Shared\\Anaconda3_64\\lib\\site-packages\\pandas\\core\\generic.py\u001b[0m in \u001b[0;36m_get_item_cache\u001b[1;34m(self, item)\u001b[0m\n\u001b[0;32m   1643\u001b[0m         \u001b[0mres\u001b[0m \u001b[1;33m=\u001b[0m \u001b[0mcache\u001b[0m\u001b[1;33m.\u001b[0m\u001b[0mget\u001b[0m\u001b[1;33m(\u001b[0m\u001b[0mitem\u001b[0m\u001b[1;33m)\u001b[0m\u001b[1;33m\u001b[0m\u001b[0m\n\u001b[0;32m   1644\u001b[0m         \u001b[1;32mif\u001b[0m \u001b[0mres\u001b[0m \u001b[1;32mis\u001b[0m \u001b[1;32mNone\u001b[0m\u001b[1;33m:\u001b[0m\u001b[1;33m\u001b[0m\u001b[0m\n\u001b[1;32m-> 1645\u001b[1;33m             \u001b[0mvalues\u001b[0m \u001b[1;33m=\u001b[0m \u001b[0mself\u001b[0m\u001b[1;33m.\u001b[0m\u001b[0m_data\u001b[0m\u001b[1;33m.\u001b[0m\u001b[0mget\u001b[0m\u001b[1;33m(\u001b[0m\u001b[0mitem\u001b[0m\u001b[1;33m)\u001b[0m\u001b[1;33m\u001b[0m\u001b[0m\n\u001b[0m\u001b[0;32m   1646\u001b[0m             \u001b[0mres\u001b[0m \u001b[1;33m=\u001b[0m \u001b[0mself\u001b[0m\u001b[1;33m.\u001b[0m\u001b[0m_box_item_values\u001b[0m\u001b[1;33m(\u001b[0m\u001b[0mitem\u001b[0m\u001b[1;33m,\u001b[0m \u001b[0mvalues\u001b[0m\u001b[1;33m)\u001b[0m\u001b[1;33m\u001b[0m\u001b[0m\n\u001b[0;32m   1647\u001b[0m             \u001b[0mcache\u001b[0m\u001b[1;33m[\u001b[0m\u001b[0mitem\u001b[0m\u001b[1;33m]\u001b[0m \u001b[1;33m=\u001b[0m \u001b[0mres\u001b[0m\u001b[1;33m\u001b[0m\u001b[0m\n",
      "\u001b[1;32mC:\\Program Files (x86)\\Microsoft Visual Studio\\Shared\\Anaconda3_64\\lib\\site-packages\\pandas\\core\\internals.py\u001b[0m in \u001b[0;36mget\u001b[1;34m(self, item, fastpath)\u001b[0m\n\u001b[0;32m   3588\u001b[0m \u001b[1;33m\u001b[0m\u001b[0m\n\u001b[0;32m   3589\u001b[0m             \u001b[1;32mif\u001b[0m \u001b[1;32mnot\u001b[0m \u001b[0misnull\u001b[0m\u001b[1;33m(\u001b[0m\u001b[0mitem\u001b[0m\u001b[1;33m)\u001b[0m\u001b[1;33m:\u001b[0m\u001b[1;33m\u001b[0m\u001b[0m\n\u001b[1;32m-> 3590\u001b[1;33m                 \u001b[0mloc\u001b[0m \u001b[1;33m=\u001b[0m \u001b[0mself\u001b[0m\u001b[1;33m.\u001b[0m\u001b[0mitems\u001b[0m\u001b[1;33m.\u001b[0m\u001b[0mget_loc\u001b[0m\u001b[1;33m(\u001b[0m\u001b[0mitem\u001b[0m\u001b[1;33m)\u001b[0m\u001b[1;33m\u001b[0m\u001b[0m\n\u001b[0m\u001b[0;32m   3591\u001b[0m             \u001b[1;32melse\u001b[0m\u001b[1;33m:\u001b[0m\u001b[1;33m\u001b[0m\u001b[0m\n\u001b[0;32m   3592\u001b[0m                 \u001b[0mindexer\u001b[0m \u001b[1;33m=\u001b[0m \u001b[0mnp\u001b[0m\u001b[1;33m.\u001b[0m\u001b[0marange\u001b[0m\u001b[1;33m(\u001b[0m\u001b[0mlen\u001b[0m\u001b[1;33m(\u001b[0m\u001b[0mself\u001b[0m\u001b[1;33m.\u001b[0m\u001b[0mitems\u001b[0m\u001b[1;33m)\u001b[0m\u001b[1;33m)\u001b[0m\u001b[1;33m[\u001b[0m\u001b[0misnull\u001b[0m\u001b[1;33m(\u001b[0m\u001b[0mself\u001b[0m\u001b[1;33m.\u001b[0m\u001b[0mitems\u001b[0m\u001b[1;33m)\u001b[0m\u001b[1;33m]\u001b[0m\u001b[1;33m\u001b[0m\u001b[0m\n",
      "\u001b[1;32mC:\\Program Files (x86)\\Microsoft Visual Studio\\Shared\\Anaconda3_64\\lib\\site-packages\\pandas\\core\\indexes\\base.py\u001b[0m in \u001b[0;36mget_loc\u001b[1;34m(self, key, method, tolerance)\u001b[0m\n\u001b[0;32m   2442\u001b[0m                 \u001b[1;32mreturn\u001b[0m \u001b[0mself\u001b[0m\u001b[1;33m.\u001b[0m\u001b[0m_engine\u001b[0m\u001b[1;33m.\u001b[0m\u001b[0mget_loc\u001b[0m\u001b[1;33m(\u001b[0m\u001b[0mkey\u001b[0m\u001b[1;33m)\u001b[0m\u001b[1;33m\u001b[0m\u001b[0m\n\u001b[0;32m   2443\u001b[0m             \u001b[1;32mexcept\u001b[0m \u001b[0mKeyError\u001b[0m\u001b[1;33m:\u001b[0m\u001b[1;33m\u001b[0m\u001b[0m\n\u001b[1;32m-> 2444\u001b[1;33m                 \u001b[1;32mreturn\u001b[0m \u001b[0mself\u001b[0m\u001b[1;33m.\u001b[0m\u001b[0m_engine\u001b[0m\u001b[1;33m.\u001b[0m\u001b[0mget_loc\u001b[0m\u001b[1;33m(\u001b[0m\u001b[0mself\u001b[0m\u001b[1;33m.\u001b[0m\u001b[0m_maybe_cast_indexer\u001b[0m\u001b[1;33m(\u001b[0m\u001b[0mkey\u001b[0m\u001b[1;33m)\u001b[0m\u001b[1;33m)\u001b[0m\u001b[1;33m\u001b[0m\u001b[0m\n\u001b[0m\u001b[0;32m   2445\u001b[0m \u001b[1;33m\u001b[0m\u001b[0m\n\u001b[0;32m   2446\u001b[0m         \u001b[0mindexer\u001b[0m \u001b[1;33m=\u001b[0m \u001b[0mself\u001b[0m\u001b[1;33m.\u001b[0m\u001b[0mget_indexer\u001b[0m\u001b[1;33m(\u001b[0m\u001b[1;33m[\u001b[0m\u001b[0mkey\u001b[0m\u001b[1;33m]\u001b[0m\u001b[1;33m,\u001b[0m \u001b[0mmethod\u001b[0m\u001b[1;33m=\u001b[0m\u001b[0mmethod\u001b[0m\u001b[1;33m,\u001b[0m \u001b[0mtolerance\u001b[0m\u001b[1;33m=\u001b[0m\u001b[0mtolerance\u001b[0m\u001b[1;33m)\u001b[0m\u001b[1;33m\u001b[0m\u001b[0m\n",
      "\u001b[1;32mpandas\\_libs\\index.pyx\u001b[0m in \u001b[0;36mpandas._libs.index.IndexEngine.get_loc\u001b[1;34m()\u001b[0m\n",
      "\u001b[1;32mpandas\\_libs\\index.pyx\u001b[0m in \u001b[0;36mpandas._libs.index.IndexEngine.get_loc\u001b[1;34m()\u001b[0m\n",
      "\u001b[1;32mpandas\\_libs\\hashtable_class_helper.pxi\u001b[0m in \u001b[0;36mpandas._libs.hashtable.PyObjectHashTable.get_item\u001b[1;34m()\u001b[0m\n",
      "\u001b[1;32mpandas\\_libs\\hashtable_class_helper.pxi\u001b[0m in \u001b[0;36mpandas._libs.hashtable.PyObjectHashTable.get_item\u001b[1;34m()\u001b[0m\n",
      "\u001b[1;31mKeyError\u001b[0m: 'FormattedDatetime'"
     ]
    }
   ],
   "source": [
    "\n",
    "CS1AVAIL = CS1AVAIL.set_index('FormattedDatetime')\n"
   ]
  },
  {
   "cell_type": "code",
   "execution_count": null,
   "metadata": {
    "collapsed": true
   },
   "outputs": [],
   "source": []
  },
  {
   "cell_type": "markdown",
   "metadata": {},
   "source": [
    "## Stationarity"
   ]
  },
  {
   "cell_type": "markdown",
   "metadata": {},
   "source": [
    "A stationary time series will more often than not give us a better set of predictions. Similar to the <b>Augmented Dickey-Fuller test</b> for univariate series, we have <b>Johansen’s test</b> for checking the stationarity of any multivariate time series data. Since the test works for only 12 variables, I have randomly dropped in the next iteration, I would drop another and check the eigenvalues."
   ]
  },
  {
   "cell_type": "markdown",
   "metadata": {},
   "source": [
    "### coint_johansen()"
   ]
  },
  {
   "cell_type": "markdown",
   "metadata": {},
   "source": [
    "`statsmodels.tsa.vector_ar.vecm.coint_johansen(endog, det_order, k_ar_diff)` - perform the Johansen cointegration test for determining the cointegration rank of a VECM. \n",
    "* <b>endog</b> - the data with presample.\n",
    "* <b>det_order: int</b> -\n",
    "  * <b>-1</b> - no deterministic terms.\n",
    "  * <b>0</b> - constant term.\n",
    "  * <b>1</b> - linear trend.\n",
    "* <b>k_ar_diff: int, nonnegative</b> - number of lagged differences in the model."
   ]
  },
  {
   "cell_type": "code",
   "execution_count": 311,
   "metadata": {
    "collapsed": true
   },
   "outputs": [],
   "source": [
    "#from statsmodels.tsa.vector_ar.vecm import coint_johansen"
   ]
  },
  {
   "cell_type": "code",
   "execution_count": 312,
   "metadata": {
    "collapsed": true
   },
   "outputs": [],
   "source": [
    "#johan_test_temp = data.drop(['CO(GT)'], axis=1)\n",
    "#coint_johansen(johan_test_temp, -1, 1).eig"
   ]
  },
  {
   "cell_type": "markdown",
   "metadata": {},
   "source": [
    "## Train-Validation Split"
   ]
  },
  {
   "cell_type": "markdown",
   "metadata": {},
   "source": [
    "Creating a validation set for time series problems is tricky because we have to take into account the time component. One cannot directly use the `train_test_split` or k-fold validation since this will disrupt the pattern in the series. The validation set should be created considering the date and time values."
   ]
  },
  {
   "cell_type": "code",
   "execution_count": 327,
   "metadata": {
    "collapsed": true
   },
   "outputs": [],
   "source": [
    "train = CS1AVAIL[:int(0.8*(len(CS1AVAIL)))]\n",
    "valid = CS1AVAIL[int(0.8*(len(CS1AVAIL))):]"
   ]
  },
  {
   "cell_type": "markdown",
   "metadata": {},
   "source": [
    "## Vector Autoregression (VAR)"
   ]
  },
  {
   "cell_type": "markdown",
   "metadata": {},
   "source": [
    "In a <b>VAR</b> model, each variable is a linear function of the past values of itself and the past values of all the other variables. Unlike AR, VAR is able to understand and use the relationship between several variables. This is useful for describing the dynamic behavior of the data and also provides better forecasting results. Additionally, implementing VAR is as simple as using any other univariate technique."
   ]
  },
  {
   "cell_type": "code",
   "execution_count": 328,
   "metadata": {
    "collapsed": true
   },
   "outputs": [],
   "source": [
    "from statsmodels.tsa.vector_ar.var_model import VAR"
   ]
  },
  {
   "cell_type": "markdown",
   "metadata": {},
   "source": [
    "### VAR()"
   ]
  },
  {
   "cell_type": "markdown",
   "metadata": {},
   "source": [
    "`statsmodels.tsa.vector_ar.var_model.VAR(endog, exog=None, dates=None, freq=None, missing='none')` - fit VAR(p) process and do lag order selection.\n",
    "\\begin{equation*} \n",
    "y_t = A_1y_{t-1} + ... + A_py_{t-p} + u_t\n",
    "\\end{equation*}\n",
    "* <b>endog</b> - 2-d endogenous response variable. The independent variable.\n",
    "* <b>exog</b> - 2-d exogenous variable.\n",
    "* <b>dates</b> - must match number of rows of endog"
   ]
  },
  {
   "cell_type": "code",
   "execution_count": 329,
   "metadata": {
    "collapsed": true
   },
   "outputs": [],
   "source": [
    "# Fit the model\n",
    "model = VAR(endog=train)\n",
    "model_fit = model.fit()\n",
    "\n",
    "# Make prediction on validation\n",
    "prediction = model_fit.forecast(model_fit.y, steps=len(valid))"
   ]
  },
  {
   "cell_type": "code",
   "execution_count": 330,
   "metadata": {
    "collapsed": true
   },
   "outputs": [],
   "source": [
    "# Convert array to DataFrame\n",
    "cols = CS1AVAIL.columns\n",
    "pred = pd.DataFrame(index=range(0, len(prediction)), columns=[cols])\n",
    "\n",
    "for j in range(0, len(cols)):\n",
    "    for i in range(0, len(prediction)):\n",
    "        pred.iloc[i][j] = prediction[i][j]"
   ]
  },
  {
   "cell_type": "code",
   "execution_count": 340,
   "metadata": {},
   "outputs": [
    {
     "name": "stdout",
     "output_type": "stream",
     "text": [
      "Index(['OOC', 'OOS', 'Occ', 'Part'], dtype='object')\n"
     ]
    }
   ],
   "source": [
    "\n",
    "print(cols)"
   ]
  },
  {
   "cell_type": "code",
   "execution_count": 331,
   "metadata": {
    "collapsed": true
   },
   "outputs": [],
   "source": [
    " \n",
    "pred = pred.dropna(axis = 0, how ='any')  \n"
   ]
  },
  {
   "cell_type": "code",
   "execution_count": 332,
   "metadata": {},
   "outputs": [
    {
     "name": "stdout",
     "output_type": "stream",
     "text": [
      "RMSE value for OOC is: 6.902355878913089e-13\n",
      "RMSE value for OOS is: 0.0\n",
      "RMSE value for Occ is: 2.0032042855947532e-13\n",
      "RMSE value for Part is: 2.7677889792880927e-12\n"
     ]
    }
   ],
   "source": [
    "# RMSE\n",
    "for i in cols:\n",
    "    print('RMSE value for', i, 'is:', sqrt(mean_squared_error(pred[i], valid[i])))"
   ]
  },
  {
   "cell_type": "code",
   "execution_count": 335,
   "metadata": {},
   "outputs": [
    {
     "data": {
      "text/plain": [
       "<statsmodels.tsa.vector_ar.var_model.VAR at 0x1efac432320>"
      ]
     },
     "execution_count": 335,
     "metadata": {},
     "output_type": "execute_result"
    }
   ],
   "source": []
  },
  {
   "cell_type": "code",
   "execution_count": 337,
   "metadata": {
    "collapsed": true
   },
   "outputs": [],
   "source": [
    "# Make final predictions\n",
    "model = VAR(endog=CS1AVAIL)\n",
    "model_fit = model.fit()\n",
    " "
   ]
  },
  {
   "cell_type": "code",
   "execution_count": 338,
   "metadata": {},
   "outputs": [
    {
     "name": "stdout",
     "output_type": "stream",
     "text": [
      "[[  1.00292092e-15   0.00000000e+00   5.19189356e-16   1.73625442e-15]]\n"
     ]
    }
   ],
   "source": [
    "\n",
    "yhat = model_fit.forecast(model_fit.y, steps=1)\n",
    "print(yhat)"
   ]
  },
  {
   "cell_type": "code",
   "execution_count": null,
   "metadata": {
    "collapsed": true
   },
   "outputs": [],
   "source": []
  },
  {
   "cell_type": "code",
   "execution_count": null,
   "metadata": {
    "collapsed": true
   },
   "outputs": [],
   "source": []
  },
  {
   "cell_type": "code",
   "execution_count": null,
   "metadata": {
    "collapsed": true
   },
   "outputs": [],
   "source": []
  },
  {
   "cell_type": "code",
   "execution_count": null,
   "metadata": {
    "collapsed": true
   },
   "outputs": [],
   "source": []
  },
  {
   "cell_type": "code",
   "execution_count": null,
   "metadata": {
    "collapsed": true
   },
   "outputs": [],
   "source": []
  },
  {
   "cell_type": "code",
   "execution_count": null,
   "metadata": {
    "collapsed": true
   },
   "outputs": [],
   "source": []
  }
 ],
 "metadata": {
  "kernelspec": {
   "display_name": "Python 3",
   "language": "python",
   "name": "python3"
  },
  "language_info": {
   "codemirror_mode": {
    "name": "ipython",
    "version": 3
   },
   "file_extension": ".py",
   "mimetype": "text/x-python",
   "name": "python",
   "nbconvert_exporter": "python",
   "pygments_lexer": "ipython3",
   "version": "3.6.2"
  }
 },
 "nbformat": 4,
 "nbformat_minor": 2
}
